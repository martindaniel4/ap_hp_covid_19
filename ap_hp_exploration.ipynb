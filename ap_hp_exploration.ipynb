{
 "cells": [
  {
   "cell_type": "markdown",
   "metadata": {},
   "source": [
    "### AP-HP Data exploration"
   ]
  },
  {
   "cell_type": "markdown",
   "metadata": {},
   "source": [
    "Dans ce notebook, nous analysons les données issues du GH Paris Saclay pour remonter de possibles erreurs ou incohérences dans les données."
   ]
  },
  {
   "cell_type": "code",
   "execution_count": 1,
   "metadata": {},
   "outputs": [],
   "source": [
    "import pandas as pd\n",
    "\n",
    "# deactivate warnings for chaining \n",
    "pd.options.mode.chained_assignment = None"
   ]
  },
  {
   "cell_type": "code",
   "execution_count": 2,
   "metadata": {},
   "outputs": [],
   "source": [
    "# Constants \n",
    "\n",
    "code_hospital = {\n",
    "  '009': 'BRK',\n",
    "  '010': 'BCT',\n",
    "  '014': 'APR',\n",
    "  '028': 'ABC',\n",
    "  '068': 'RPC',\n",
    "  '079': 'SPR',\n",
    "  '096': 'PBR',\n",
    "}\n",
    "\n",
    "hospital_name = {\n",
    "  'BRK': 'BERCK',\n",
    "  'BCT': 'BICETRE',\n",
    "  'PBR': 'PAUL-BROUSSE',\n",
    "  'ABC': 'ANTOINE BECLERE',\n",
    "  'SPR': 'SAINTE PERINE',\n",
    "  'APR': 'AMBROISE PARE',\n",
    "  'RPC': 'RAYMOND POINCARE',\n",
    "}\n"
   ]
  },
  {
   "cell_type": "code",
   "execution_count": 39,
   "metadata": {},
   "outputs": [],
   "source": [
    "# import excel files \n",
    "\n",
    "orbis = pd.read_csv('data/valide/orbis.csv', sep=';', encoding='cp1252')\n",
    "pacs = pd.read_excel('data/valide/pacs.xlsx')\n",
    "glims = pd.read_excel('data/valide/glims.xlsx')\n",
    "capacitaire = pd.read_excel('data/valide/capacitaire.xlsx')\n",
    "sirius = pd.read_excel('data/valide/sirius.xlsx')"
   ]
  },
  {
   "cell_type": "markdown",
   "metadata": {},
   "source": [
    "## Data Cleaning"
   ]
  },
  {
   "cell_type": "code",
   "execution_count": 6,
   "metadata": {},
   "outputs": [],
   "source": [
    "# Orbis - take only relevant columns, rename and extract chambre code\n",
    "\n",
    "orbis = orbis[['IPP', 'Chambre', 'U.Responsabilité']]\n",
    "orbis.rename(columns={'IPP':'ipp', 'Chambre':'room'}, \n",
    "             inplace=True)\n",
    "\n",
    "# Extract code chambre from chambre (e.g: C134 from C134 - CHAMBRE SEULE C134)\n",
    "orbis['code_room'] = orbis['room'].str.split(r\"\\ - \", expand=True)[0]\n",
    "\n",
    "# Extract hospital name from U.Responsabilité (e.g: ABC from 028081 - ABC OBSTETRIQUE (UF))\n",
    "orbis['hospital_name'] = orbis['U.Responsabilité'].str.split(r\"\\ - \", expand=True)[1].str[0:3]\n",
    "\n",
    "# From room, remove white spaces and uppercase\n",
    "orbis['room'] = orbis['room'].str.replace(' ', '').str.upper()\n",
    "\n",
    "orbis = orbis[['ipp', 'code_room', 'room', 'hospital_name']]"
   ]
  },
  {
   "cell_type": "code",
   "execution_count": 7,
   "metadata": {},
   "outputs": [],
   "source": [
    "# Glims - rename columns, drop_duplicates, map is_pcr value to 1\n",
    "\n",
    "glims = glims[['ipp', 'is_pcr']]\n",
    "glims.drop_duplicates('ipp', inplace=True) #note: drop_duplicate only returns first value for each IPP\n",
    "glims['is_pcr'] = glims['is_pcr'].map({'Positif':1})"
   ]
  },
  {
   "cell_type": "code",
   "execution_count": 8,
   "metadata": {},
   "outputs": [],
   "source": [
    "# Pacs - select columns, drop_duplicates\n",
    "pacs = pacs[['ipp', 'radio']]\n",
    "pacs.drop_duplicates('ipp', inplace=True)"
   ]
  },
  {
   "cell_type": "code",
   "execution_count": 9,
   "metadata": {},
   "outputs": [],
   "source": [
    "# Capacitaire, rename is_covid column\n",
    "capacitaire.rename(columns={'Full COVID 1/0':'is_covid_dedicated',\n",
    "                            'hopital':'hospital_name',\n",
    "                            'service_covid':'covid_service'}, inplace=True)\n",
    "\n",
    "# Capacitaire, rename is_covid column\n",
    "capacitaire.drop_duplicates(['hospital_name', 'covid_service'], inplace=True)"
   ]
  },
  {
   "cell_type": "code",
   "execution_count": 10,
   "metadata": {},
   "outputs": [],
   "source": [
    "# Sirius, select columns, rename and filter \n",
    "sirius = sirius[['Hopital', \n",
    "                 'Intitulé Site Crise COVID', \n",
    "                 'Retenir ligne O/N',\n",
    "                 'Libelle Chambre',\n",
    "                 'Code Chambre']]\n",
    "\n",
    "sirius.rename(columns={'Hopital':'code_hospital',\n",
    "                       'Intitulé Site Crise COVID': 'covid_service',\n",
    "                       'Retenir ligne O/N':'filter_row',\n",
    "                       'Code Chambre':'code_room',\n",
    "                       'Libelle Chambre':'label_room'},\n",
    "             inplace=True)\n",
    "\n",
    "# only filter row with OUI \n",
    "sirius = sirius.query(\"filter_row=='OUI'\")\n",
    "\n",
    "# remove white spaces from label room, uppercase \n",
    "sirius['label_room'] = sirius['label_room'].astype(str)\n",
    "sirius['label_room'] = sirius['label_room'].str.replace(' ', '').str.upper()\n",
    "\n",
    "# remove white spaces from code room, uppercase \n",
    "sirius['code_room'] = sirius['code_room'].astype(str)\n",
    "sirius['code_room'] = sirius['code_room'].str.replace(' ', '').str.upper()\n",
    "\n",
    "#create room as concatenate of code_room and label_room\n",
    "\n",
    "sirius['room'] = sirius[['code_room', 'label_room']].agg('-'.join, axis=1)\n",
    "\n",
    "sirius.drop('filter_row', axis=1, inplace=True)"
   ]
  },
  {
   "cell_type": "markdown",
   "metadata": {},
   "source": [
    "## Merge"
   ]
  },
  {
   "cell_type": "code",
   "execution_count": 11,
   "metadata": {},
   "outputs": [],
   "source": [
    "# merge Orbis with Glims\n",
    "\n",
    "orbis =\\\n",
    "    pd.merge(orbis,\n",
    "             glims,\n",
    "             on='ipp',\n",
    "             how='left')\n",
    "\n",
    "# merge with Pacs\n",
    "\n",
    "orbis =\\\n",
    "    pd.merge(orbis,\n",
    "             pacs,\n",
    "             on='ipp',\n",
    "             how='left')\n",
    "\n",
    "orbis.fillna(0, inplace=True)"
   ]
  },
  {
   "cell_type": "code",
   "execution_count": 12,
   "metadata": {},
   "outputs": [],
   "source": [
    "# Compute is_covid patient\n",
    "\n",
    "def is_covid(x):\n",
    "    if (x['is_pcr'] + x['radio']) > 0:\n",
    "        return 1\n",
    "    else:\n",
    "        return 0\n",
    "\n",
    "orbis['is_covid'] = orbis.apply(is_covid, axis=1)"
   ]
  },
  {
   "cell_type": "code",
   "execution_count": 13,
   "metadata": {},
   "outputs": [
    {
     "name": "stdout",
     "output_type": "stream",
     "text": [
      "il y a 98 patients sans Chambre dans Orbis dont 8 Covid positif:\n"
     ]
    },
    {
     "data": {
      "text/html": [
       "<div>\n",
       "<style scoped>\n",
       "    .dataframe tbody tr th:only-of-type {\n",
       "        vertical-align: middle;\n",
       "    }\n",
       "\n",
       "    .dataframe tbody tr th {\n",
       "        vertical-align: top;\n",
       "    }\n",
       "\n",
       "    .dataframe thead th {\n",
       "        text-align: right;\n",
       "    }\n",
       "</style>\n",
       "<table border=\"1\" class=\"dataframe\">\n",
       "  <thead>\n",
       "    <tr style=\"text-align: right;\">\n",
       "      <th></th>\n",
       "      <th>ipp</th>\n",
       "      <th>code_room</th>\n",
       "      <th>room</th>\n",
       "      <th>hospital_name</th>\n",
       "      <th>is_pcr</th>\n",
       "      <th>radio</th>\n",
       "      <th>is_covid</th>\n",
       "    </tr>\n",
       "  </thead>\n",
       "  <tbody>\n",
       "    <tr>\n",
       "      <th>118</th>\n",
       "      <td>8003232267</td>\n",
       "      <td></td>\n",
       "      <td>-</td>\n",
       "      <td>ABC</td>\n",
       "      <td>1.0</td>\n",
       "      <td>0.0</td>\n",
       "      <td>1</td>\n",
       "    </tr>\n",
       "    <tr>\n",
       "      <th>381</th>\n",
       "      <td>8014201282</td>\n",
       "      <td></td>\n",
       "      <td>-</td>\n",
       "      <td>APR</td>\n",
       "      <td>1.0</td>\n",
       "      <td>0.0</td>\n",
       "      <td>1</td>\n",
       "    </tr>\n",
       "    <tr>\n",
       "      <th>402</th>\n",
       "      <td>8001043127</td>\n",
       "      <td></td>\n",
       "      <td>-</td>\n",
       "      <td>APR</td>\n",
       "      <td>1.0</td>\n",
       "      <td>0.0</td>\n",
       "      <td>1</td>\n",
       "    </tr>\n",
       "    <tr>\n",
       "      <th>760</th>\n",
       "      <td>8014207211</td>\n",
       "      <td></td>\n",
       "      <td>-</td>\n",
       "      <td>BCT</td>\n",
       "      <td>1.0</td>\n",
       "      <td>0.0</td>\n",
       "      <td>1</td>\n",
       "    </tr>\n",
       "    <tr>\n",
       "      <th>780</th>\n",
       "      <td>8014213145</td>\n",
       "      <td></td>\n",
       "      <td>-</td>\n",
       "      <td>BCT</td>\n",
       "      <td>1.0</td>\n",
       "      <td>0.0</td>\n",
       "      <td>1</td>\n",
       "    </tr>\n",
       "    <tr>\n",
       "      <th>821</th>\n",
       "      <td>8008578325</td>\n",
       "      <td></td>\n",
       "      <td>-</td>\n",
       "      <td>BCT</td>\n",
       "      <td>1.0</td>\n",
       "      <td>0.0</td>\n",
       "      <td>1</td>\n",
       "    </tr>\n",
       "    <tr>\n",
       "      <th>1182</th>\n",
       "      <td>8014232794</td>\n",
       "      <td></td>\n",
       "      <td>-</td>\n",
       "      <td>BCT</td>\n",
       "      <td>1.0</td>\n",
       "      <td>0.0</td>\n",
       "      <td>1</td>\n",
       "    </tr>\n",
       "    <tr>\n",
       "      <th>1301</th>\n",
       "      <td>8008890155</td>\n",
       "      <td></td>\n",
       "      <td>-</td>\n",
       "      <td>BCT</td>\n",
       "      <td>1.0</td>\n",
       "      <td>0.0</td>\n",
       "      <td>1</td>\n",
       "    </tr>\n",
       "  </tbody>\n",
       "</table>\n",
       "</div>"
      ],
      "text/plain": [
       "             ipp code_room room hospital_name  is_pcr  radio  is_covid\n",
       "118   8003232267              -           ABC     1.0    0.0         1\n",
       "381   8014201282              -           APR     1.0    0.0         1\n",
       "402   8001043127              -           APR     1.0    0.0         1\n",
       "760   8014207211              -           BCT     1.0    0.0         1\n",
       "780   8014213145              -           BCT     1.0    0.0         1\n",
       "821   8008578325              -           BCT     1.0    0.0         1\n",
       "1182  8014232794              -           BCT     1.0    0.0         1\n",
       "1301  8008890155              -           BCT     1.0    0.0         1"
      ]
     },
     "execution_count": 13,
     "metadata": {},
     "output_type": "execute_result"
    }
   ],
   "source": [
    "# How many Covid patients do not have a room associated with ? \n",
    "print('il y a {n_patients_no_room} patients sans'\n",
    "       ' Chambre dans Orbis dont {n_patients_no_room_covid} Covid positif:'\\\n",
    "      .format(n_patients_no_room = len(orbis.query(\"code_room == ''\")),\n",
    "              n_patients_no_room_covid = len(orbis.query(\"code_room == ''\").query(\"is_covid==1\")),\n",
    "             ))\n",
    "\n",
    "orbis.query(\"code_room == ''\").query(\"is_covid==1\")"
   ]
  },
  {
   "cell_type": "code",
   "execution_count": 14,
   "metadata": {},
   "outputs": [],
   "source": [
    "# add hospital_name to sirius \n",
    "\n",
    "sirius['hospital_name'] = sirius['code_hospital'].map(code_hospital)"
   ]
  },
  {
   "cell_type": "code",
   "execution_count": 15,
   "metadata": {},
   "outputs": [],
   "source": [
    "# merge Sirius and Orbis\n",
    "\n",
    "orbis =\\\n",
    "    pd.merge(orbis,\n",
    "             sirius,\n",
    "             how='left',\n",
    "             on=['hospital_name', \n",
    "                 'room'])"
   ]
  },
  {
   "cell_type": "markdown",
   "metadata": {},
   "source": [
    "### Discrepancies between Sirius and Orbis room matching"
   ]
  },
  {
   "cell_type": "markdown",
   "metadata": {},
   "source": [
    "After a left merge on the room matching key, we end up with rooms that do not match in Sirius. "
   ]
  },
  {
   "cell_type": "code",
   "execution_count": 16,
   "metadata": {},
   "outputs": [
    {
     "name": "stdout",
     "output_type": "stream",
     "text": [
      "il y a 147 chambres Orbis qu'on ne retrouve pas dans Sirius\n"
     ]
    }
   ],
   "source": [
    "print('il y a {n_rooms_missing} chambres Orbis'\n",
    "      ' qu\\'on ne retrouve pas dans Sirius'\\\n",
    "      .format(n_rooms_missing=len(orbis.query(\"code_hospital.isnull()\"))))"
   ]
  },
  {
   "cell_type": "markdown",
   "metadata": {},
   "source": [
    "Why is it the case? Let's look at the difference in label in the two files: "
   ]
  },
  {
   "cell_type": "code",
   "execution_count": 17,
   "metadata": {},
   "outputs": [],
   "source": [
    "# create a df with the rooms that did not find a match in Sirius\n",
    "\n",
    "room_gap = orbis[orbis['covid_service'].isna()][['code_room_x', 'room', 'hospital_name']]\n",
    "room_gap.rename(columns={'code_room_x':'code_room'}, \n",
    "                inplace=True)"
   ]
  },
  {
   "cell_type": "markdown",
   "metadata": {},
   "source": [
    "A first reason is that the code_room in Orbis can be empty. This can be patients that have not yet a room allocated or newborns that sleep with their mama. How many are those? "
   ]
  },
  {
   "cell_type": "code",
   "execution_count": 18,
   "metadata": {},
   "outputs": [
    {
     "name": "stdout",
     "output_type": "stream",
     "text": [
      "il y a 98 patients dans Orbis sans chambre. Reste a expliquer 49 patients\n"
     ]
    }
   ],
   "source": [
    "n_patients_with_no_rooms_in_orbis = len(room_gap.query(\"code_room == ''\"))\n",
    "n_patients_remaining = len(orbis.query(\"code_hospital.isnull()\")) - n_patients_with_no_rooms_in_orbis\n",
    "\n",
    "print('il y a {n_patients_with_no_rooms_in_orbis} patients dans Orbis'\n",
    "      ' sans chambre. Reste a expliquer {n_patients_remaining} patients'\\\n",
    "      .format(n_patients_with_no_rooms_in_orbis=n_patients_with_no_rooms_in_orbis,\n",
    "              n_patients_remaining=n_patients_remaining))"
   ]
  },
  {
   "cell_type": "code",
   "execution_count": 19,
   "metadata": {},
   "outputs": [],
   "source": [
    "# merge room_gap with sirius only on those that have a code_room in Sirius\n",
    "\n",
    "df_gap = pd.merge(room_gap.query(\"code_room != ''\"),\n",
    "         sirius,\n",
    "         on=['code_room', 'hospital_name'],\n",
    "         how='left')"
   ]
  },
  {
   "cell_type": "markdown",
   "metadata": {},
   "source": [
    "Another reason is that the code_room does not match. This can be because when imported, sirius Excel file cast columns and consider some rows as string or integer. See below an example for code_room '04' in Orbis and '4' in Sirius: "
   ]
  },
  {
   "cell_type": "code",
   "execution_count": 20,
   "metadata": {},
   "outputs": [
    {
     "data": {
      "text/html": [
       "<div>\n",
       "<style scoped>\n",
       "    .dataframe tbody tr th:only-of-type {\n",
       "        vertical-align: middle;\n",
       "    }\n",
       "\n",
       "    .dataframe tbody tr th {\n",
       "        vertical-align: top;\n",
       "    }\n",
       "\n",
       "    .dataframe thead th {\n",
       "        text-align: right;\n",
       "    }\n",
       "</style>\n",
       "<table border=\"1\" class=\"dataframe\">\n",
       "  <thead>\n",
       "    <tr style=\"text-align: right;\">\n",
       "      <th></th>\n",
       "      <th>code_room</th>\n",
       "      <th>room_x</th>\n",
       "      <th>hospital_name</th>\n",
       "      <th>code_hospital</th>\n",
       "      <th>covid_service</th>\n",
       "      <th>label_room</th>\n",
       "      <th>room_y</th>\n",
       "    </tr>\n",
       "  </thead>\n",
       "  <tbody>\n",
       "  </tbody>\n",
       "</table>\n",
       "</div>"
      ],
      "text/plain": [
       "Empty DataFrame\n",
       "Columns: [code_room, room_x, hospital_name, code_hospital, covid_service, label_room, room_y]\n",
       "Index: []"
      ]
     },
     "execution_count": 20,
     "metadata": {},
     "output_type": "execute_result"
    }
   ],
   "source": [
    "df_gap.query(\"code_room=='04'\")"
   ]
  },
  {
   "cell_type": "code",
   "execution_count": 21,
   "metadata": {},
   "outputs": [
    {
     "data": {
      "text/html": [
       "<div>\n",
       "<style scoped>\n",
       "    .dataframe tbody tr th:only-of-type {\n",
       "        vertical-align: middle;\n",
       "    }\n",
       "\n",
       "    .dataframe tbody tr th {\n",
       "        vertical-align: top;\n",
       "    }\n",
       "\n",
       "    .dataframe thead th {\n",
       "        text-align: right;\n",
       "    }\n",
       "</style>\n",
       "<table border=\"1\" class=\"dataframe\">\n",
       "  <thead>\n",
       "    <tr style=\"text-align: right;\">\n",
       "      <th></th>\n",
       "      <th>code_hospital</th>\n",
       "      <th>covid_service</th>\n",
       "      <th>label_room</th>\n",
       "      <th>code_room</th>\n",
       "      <th>room</th>\n",
       "      <th>hospital_name</th>\n",
       "    </tr>\n",
       "  </thead>\n",
       "  <tbody>\n",
       "  </tbody>\n",
       "</table>\n",
       "</div>"
      ],
      "text/plain": [
       "Empty DataFrame\n",
       "Columns: [code_hospital, covid_service, label_room, code_room, room, hospital_name]\n",
       "Index: []"
      ]
     },
     "execution_count": 21,
     "metadata": {},
     "output_type": "execute_result"
    }
   ],
   "source": [
    "sirius.query(\"code_room=='4'\").query(\"hospital_name=='BCT'\")"
   ]
  },
  {
   "cell_type": "markdown",
   "metadata": {},
   "source": [
    "Note that it is not as straightforward as adding one trailing 0. Some room code have two trailing zeros for instance: "
   ]
  },
  {
   "cell_type": "code",
   "execution_count": 22,
   "metadata": {},
   "outputs": [
    {
     "data": {
      "text/html": [
       "<div>\n",
       "<style scoped>\n",
       "    .dataframe tbody tr th:only-of-type {\n",
       "        vertical-align: middle;\n",
       "    }\n",
       "\n",
       "    .dataframe tbody tr th {\n",
       "        vertical-align: top;\n",
       "    }\n",
       "\n",
       "    .dataframe thead th {\n",
       "        text-align: right;\n",
       "    }\n",
       "</style>\n",
       "<table border=\"1\" class=\"dataframe\">\n",
       "  <thead>\n",
       "    <tr style=\"text-align: right;\">\n",
       "      <th></th>\n",
       "      <th>code_room</th>\n",
       "      <th>room_x</th>\n",
       "      <th>hospital_name</th>\n",
       "      <th>code_hospital</th>\n",
       "      <th>covid_service</th>\n",
       "      <th>label_room</th>\n",
       "      <th>room_y</th>\n",
       "    </tr>\n",
       "  </thead>\n",
       "  <tbody>\n",
       "  </tbody>\n",
       "</table>\n",
       "</div>"
      ],
      "text/plain": [
       "Empty DataFrame\n",
       "Columns: [code_room, room_x, hospital_name, code_hospital, covid_service, label_room, room_y]\n",
       "Index: []"
      ]
     },
     "execution_count": 22,
     "metadata": {},
     "output_type": "execute_result"
    }
   ],
   "source": [
    "df_gap.query(\"code_room=='003'\")"
   ]
  },
  {
   "cell_type": "code",
   "execution_count": 23,
   "metadata": {},
   "outputs": [
    {
     "data": {
      "text/html": [
       "<div>\n",
       "<style scoped>\n",
       "    .dataframe tbody tr th:only-of-type {\n",
       "        vertical-align: middle;\n",
       "    }\n",
       "\n",
       "    .dataframe tbody tr th {\n",
       "        vertical-align: top;\n",
       "    }\n",
       "\n",
       "    .dataframe thead th {\n",
       "        text-align: right;\n",
       "    }\n",
       "</style>\n",
       "<table border=\"1\" class=\"dataframe\">\n",
       "  <thead>\n",
       "    <tr style=\"text-align: right;\">\n",
       "      <th></th>\n",
       "      <th>code_hospital</th>\n",
       "      <th>covid_service</th>\n",
       "      <th>label_room</th>\n",
       "      <th>code_room</th>\n",
       "      <th>room</th>\n",
       "      <th>hospital_name</th>\n",
       "    </tr>\n",
       "  </thead>\n",
       "  <tbody>\n",
       "  </tbody>\n",
       "</table>\n",
       "</div>"
      ],
      "text/plain": [
       "Empty DataFrame\n",
       "Columns: [code_hospital, covid_service, label_room, code_room, room, hospital_name]\n",
       "Index: []"
      ]
     },
     "execution_count": 23,
     "metadata": {},
     "output_type": "execute_result"
    }
   ],
   "source": [
    "sirius.query(\"code_room=='3'\").query(\"hospital_name=='RPC'\")"
   ]
  },
  {
   "cell_type": "markdown",
   "metadata": {},
   "source": [
    "Other does not seem to match at all: "
   ]
  },
  {
   "cell_type": "code",
   "execution_count": 24,
   "metadata": {},
   "outputs": [
    {
     "data": {
      "text/html": [
       "<div>\n",
       "<style scoped>\n",
       "    .dataframe tbody tr th:only-of-type {\n",
       "        vertical-align: middle;\n",
       "    }\n",
       "\n",
       "    .dataframe tbody tr th {\n",
       "        vertical-align: top;\n",
       "    }\n",
       "\n",
       "    .dataframe thead th {\n",
       "        text-align: right;\n",
       "    }\n",
       "</style>\n",
       "<table border=\"1\" class=\"dataframe\">\n",
       "  <thead>\n",
       "    <tr style=\"text-align: right;\">\n",
       "      <th></th>\n",
       "      <th>code_room</th>\n",
       "      <th>room_x</th>\n",
       "      <th>hospital_name</th>\n",
       "      <th>code_hospital</th>\n",
       "      <th>covid_service</th>\n",
       "      <th>label_room</th>\n",
       "      <th>room_y</th>\n",
       "    </tr>\n",
       "  </thead>\n",
       "  <tbody>\n",
       "    <tr>\n",
       "      <th>18</th>\n",
       "      <td>L205</td>\n",
       "      <td>L205-CHAMBRE5LAENNEC0205</td>\n",
       "      <td>BCT</td>\n",
       "      <td>NaN</td>\n",
       "      <td>NaN</td>\n",
       "      <td>NaN</td>\n",
       "      <td>NaN</td>\n",
       "    </tr>\n",
       "  </tbody>\n",
       "</table>\n",
       "</div>"
      ],
      "text/plain": [
       "   code_room                    room_x hospital_name  code_hospital  \\\n",
       "18      L205  L205-CHAMBRE5LAENNEC0205           BCT            NaN   \n",
       "\n",
       "   covid_service label_room room_y  \n",
       "18           NaN        NaN    NaN  "
      ]
     },
     "execution_count": 24,
     "metadata": {},
     "output_type": "execute_result"
    }
   ],
   "source": [
    "df_gap.query(\"code_room == 'L205'\")"
   ]
  },
  {
   "cell_type": "code",
   "execution_count": 25,
   "metadata": {},
   "outputs": [
    {
     "data": {
      "text/html": [
       "<div>\n",
       "<style scoped>\n",
       "    .dataframe tbody tr th:only-of-type {\n",
       "        vertical-align: middle;\n",
       "    }\n",
       "\n",
       "    .dataframe tbody tr th {\n",
       "        vertical-align: top;\n",
       "    }\n",
       "\n",
       "    .dataframe thead th {\n",
       "        text-align: right;\n",
       "    }\n",
       "</style>\n",
       "<table border=\"1\" class=\"dataframe\">\n",
       "  <thead>\n",
       "    <tr style=\"text-align: right;\">\n",
       "      <th></th>\n",
       "      <th>code_hospital</th>\n",
       "      <th>covid_service</th>\n",
       "      <th>label_room</th>\n",
       "      <th>code_room</th>\n",
       "      <th>room</th>\n",
       "      <th>hospital_name</th>\n",
       "    </tr>\n",
       "  </thead>\n",
       "  <tbody>\n",
       "    <tr>\n",
       "      <th>1412</th>\n",
       "      <td>68</td>\n",
       "      <td>Widal 2 Covid+</td>\n",
       "      <td>CHAMBRE205</td>\n",
       "      <td>205</td>\n",
       "      <td>205-CHAMBRE205</td>\n",
       "      <td>RPC</td>\n",
       "    </tr>\n",
       "  </tbody>\n",
       "</table>\n",
       "</div>"
      ],
      "text/plain": [
       "      code_hospital   covid_service  label_room code_room            room  \\\n",
       "1412             68  Widal 2 Covid+  CHAMBRE205       205  205-CHAMBRE205   \n",
       "\n",
       "     hospital_name  \n",
       "1412           RPC  "
      ]
     },
     "execution_count": 25,
     "metadata": {},
     "output_type": "execute_result"
    }
   ],
   "source": [
    "sirius.query(\"hospital_name == 'RPC'\").query('label_room.str.contains(\"205\")')"
   ]
  },
  {
   "cell_type": "code",
   "execution_count": 26,
   "metadata": {},
   "outputs": [
    {
     "name": "stdout",
     "output_type": "stream",
     "text": [
      "il y a 5 patients dont le code chambre Sirius ne correspond pas dans Orbis. Reste a expliquer 44 patients\n"
     ]
    }
   ],
   "source": [
    "n_patients_with_no_code_room_matching_in_sirius =\\\n",
    "    len(df_gap.drop_duplicates(['room_x', \n",
    "                                'hospital_name']).query('code_hospital.isnull()'))\n",
    "n_patients_remaining = n_patients_remaining - n_patients_with_no_code_room_matching_in_sirius\n",
    "\n",
    "print('il y a {n_patients_with_no_code_room_matching_in_sirius} patients dont le code chambre'\n",
    "      ' Sirius ne correspond pas dans Orbis. Reste a expliquer {n_patients_remaining} patients'\\\n",
    "      .format(n_patients_with_no_code_room_matching_in_sirius=n_patients_with_no_code_room_matching_in_sirius,\n",
    "              n_patients_remaining=n_patients_remaining))"
   ]
  },
  {
   "cell_type": "markdown",
   "metadata": {},
   "source": [
    "Finally, we have room labels that do not match because strings are different. A few examples: \n",
    "\n",
    "- There is a space at the end \"ABC\" vs \"ABC \"\n",
    "- Lower case vs Upper case \"CHAMBRE 5 NEO NATALE\" vs \"Chambre 5 Neo Natale\"\n",
    "- Characters used 321 - \"ferm√©\" vs \"ferm?\""
   ]
  },
  {
   "cell_type": "code",
   "execution_count": 27,
   "metadata": {},
   "outputs": [
    {
     "data": {
      "text/html": [
       "<div>\n",
       "<style scoped>\n",
       "    .dataframe tbody tr th:only-of-type {\n",
       "        vertical-align: middle;\n",
       "    }\n",
       "\n",
       "    .dataframe tbody tr th {\n",
       "        vertical-align: top;\n",
       "    }\n",
       "\n",
       "    .dataframe thead th {\n",
       "        text-align: right;\n",
       "    }\n",
       "</style>\n",
       "<table border=\"1\" class=\"dataframe\">\n",
       "  <thead>\n",
       "    <tr style=\"text-align: right;\">\n",
       "      <th></th>\n",
       "      <th>room_orbis</th>\n",
       "      <th>room_sirius</th>\n",
       "    </tr>\n",
       "  </thead>\n",
       "  <tbody>\n",
       "    <tr>\n",
       "      <th>1</th>\n",
       "      <td>CHA1-CHAMBRESRMN.A1</td>\n",
       "      <td>CHA1-CHAMBRESRMN°A1</td>\n",
       "    </tr>\n",
       "    <tr>\n",
       "      <th>2</th>\n",
       "      <td>P14-CHAMBRE14PÉDIATRIE</td>\n",
       "      <td>P14-CHAMBRE14P�DIATRIE</td>\n",
       "    </tr>\n",
       "    <tr>\n",
       "      <th>3</th>\n",
       "      <td>CHA5-CHAMBRESRMN.A5</td>\n",
       "      <td>CHA5-CHAMBRESRMN°A5</td>\n",
       "    </tr>\n",
       "    <tr>\n",
       "      <th>4</th>\n",
       "      <td>CHD4-CHAMBRESCMN.D4</td>\n",
       "      <td>CHD4-CHAMBRESCMN°D4</td>\n",
       "    </tr>\n",
       "    <tr>\n",
       "      <th>5</th>\n",
       "      <td>CHD2-CHAMBRESCMN.D2</td>\n",
       "      <td>CHD2-CHAMBRESCMN°D2</td>\n",
       "    </tr>\n",
       "    <tr>\n",
       "      <th>6</th>\n",
       "      <td>P02-CHAMBRE2PÉDIATRIE</td>\n",
       "      <td>P02-CHAMBRE2P�DIATRIE</td>\n",
       "    </tr>\n",
       "    <tr>\n",
       "      <th>7</th>\n",
       "      <td>CHE2-CHAMBRESCMN.E2</td>\n",
       "      <td>CHE2-CHAMBRESCMN°E2</td>\n",
       "    </tr>\n",
       "    <tr>\n",
       "      <th>8</th>\n",
       "      <td>CHB4-CHAMBRESRMN.B4</td>\n",
       "      <td>CHB4-CHAMBRESRMN°B4</td>\n",
       "    </tr>\n",
       "    <tr>\n",
       "      <th>9</th>\n",
       "      <td>P01-CHAMBRE1PÉDIATRIE</td>\n",
       "      <td>P01-CHAMBRE1P�DIATRIE</td>\n",
       "    </tr>\n",
       "    <tr>\n",
       "      <th>10</th>\n",
       "      <td>CHA2-CHAMBRESRMN.A2</td>\n",
       "      <td>CHA2-CHAMBRESRMN°A2</td>\n",
       "    </tr>\n",
       "    <tr>\n",
       "      <th>11</th>\n",
       "      <td>P11-CHAMBRE11PÉDIATRIE</td>\n",
       "      <td>P11-CHAMBRE11P�DIATRIE</td>\n",
       "    </tr>\n",
       "    <tr>\n",
       "      <th>12</th>\n",
       "      <td>CHC2-CHAMBRESRMN.C2</td>\n",
       "      <td>CHC2-CHAMBRESRMN°C2</td>\n",
       "    </tr>\n",
       "    <tr>\n",
       "      <th>14</th>\n",
       "      <td>P11-CHAMBRE11PÉDIATRIE</td>\n",
       "      <td>P11-CHAMBRE11P�DIATRIE</td>\n",
       "    </tr>\n",
       "    <tr>\n",
       "      <th>15</th>\n",
       "      <td>321-CHAMBRESEULE321SECTEURFERMÉ</td>\n",
       "      <td>321-CHAMBRESEULE321</td>\n",
       "    </tr>\n",
       "    <tr>\n",
       "      <th>16</th>\n",
       "      <td>321-CHAMBRESEULE321SECTEURFERMÉ</td>\n",
       "      <td>321-CHAMBRESEULE321SECTEURFERM�</td>\n",
       "    </tr>\n",
       "    <tr>\n",
       "      <th>17</th>\n",
       "      <td>P10-CHAMBRE10PÉDIATRIE</td>\n",
       "      <td>P10-CHAMBRE10P�DIATRIE</td>\n",
       "    </tr>\n",
       "    <tr>\n",
       "      <th>19</th>\n",
       "      <td>318-CHAMBRESEULE318SECTEURFERMÉ</td>\n",
       "      <td>318-CHAMBRESEULE318</td>\n",
       "    </tr>\n",
       "    <tr>\n",
       "      <th>20</th>\n",
       "      <td>318-CHAMBRESEULE318SECTEURFERMÉ</td>\n",
       "      <td>318-CHAMBRESEULE318SECTEURFERM�</td>\n",
       "    </tr>\n",
       "    <tr>\n",
       "      <th>21</th>\n",
       "      <td>P10-CHAMBRE10PÉDIATRIE</td>\n",
       "      <td>P10-CHAMBRE10P�DIATRIE</td>\n",
       "    </tr>\n",
       "    <tr>\n",
       "      <th>22</th>\n",
       "      <td>P04-CHAMBRE4PÉDIATRIE</td>\n",
       "      <td>P04-CHAMBRE4P�DIATRIE</td>\n",
       "    </tr>\n",
       "    <tr>\n",
       "      <th>23</th>\n",
       "      <td>CHE4-CHAMBRESCMN.E4</td>\n",
       "      <td>CHE4-CHAMBRESCMN°E4</td>\n",
       "    </tr>\n",
       "    <tr>\n",
       "      <th>24</th>\n",
       "      <td>CHC4-CHAMBRESRMN.C4</td>\n",
       "      <td>CHC4-CHAMBRESRMN°C4</td>\n",
       "    </tr>\n",
       "    <tr>\n",
       "      <th>25</th>\n",
       "      <td>P09-CHAMBRE9PÉDIATRIE</td>\n",
       "      <td>P09-CHAMBRE9P�DIATRIE</td>\n",
       "    </tr>\n",
       "    <tr>\n",
       "      <th>26</th>\n",
       "      <td>319-CHAMBRESEULE319SECTEURFERMÉ</td>\n",
       "      <td>319-CHAMBRESEULE319</td>\n",
       "    </tr>\n",
       "    <tr>\n",
       "      <th>27</th>\n",
       "      <td>319-CHAMBRESEULE319SECTEURFERMÉ</td>\n",
       "      <td>319-CHAMBRESEULE319SECTEURFERM�</td>\n",
       "    </tr>\n",
       "    <tr>\n",
       "      <th>28</th>\n",
       "      <td>CHE1-CHAMBRESCMN.E1</td>\n",
       "      <td>CHE1-CHAMBRESCMN°E1</td>\n",
       "    </tr>\n",
       "    <tr>\n",
       "      <th>29</th>\n",
       "      <td>CHD5-CHAMBRESCMN.D5</td>\n",
       "      <td>CHD5-CHAMBRESCMN°D5</td>\n",
       "    </tr>\n",
       "    <tr>\n",
       "      <th>30</th>\n",
       "      <td>CHA3-CHAMBRESRMN.A3</td>\n",
       "      <td>CHA3-CHAMBRESRMN°A3</td>\n",
       "    </tr>\n",
       "    <tr>\n",
       "      <th>31</th>\n",
       "      <td>P03-CHAMBRE3PÉDIATRIE</td>\n",
       "      <td>P03-CHAMBRE3P�DIATRIE</td>\n",
       "    </tr>\n",
       "    <tr>\n",
       "      <th>32</th>\n",
       "      <td>CHD3-CHAMBRESCMN.D3</td>\n",
       "      <td>CHD3-CHAMBRESCMN°D3</td>\n",
       "    </tr>\n",
       "    <tr>\n",
       "      <th>33</th>\n",
       "      <td>P14-CHAMBRE14PÉDIATRIE</td>\n",
       "      <td>P14-CHAMBRE14P�DIATRIE</td>\n",
       "    </tr>\n",
       "    <tr>\n",
       "      <th>34</th>\n",
       "      <td>P12-CHAMBRE12PÉDIATRIE</td>\n",
       "      <td>P12-CHAMBRE12P�DIATRIE</td>\n",
       "    </tr>\n",
       "    <tr>\n",
       "      <th>35</th>\n",
       "      <td>CHC1-CHAMBRESRMN.C1</td>\n",
       "      <td>CHC1-CHAMBRESRMN°C1</td>\n",
       "    </tr>\n",
       "    <tr>\n",
       "      <th>36</th>\n",
       "      <td>CHC3-CHAMBRESRMN.C3</td>\n",
       "      <td>CHC3-CHAMBRESRMN°C3</td>\n",
       "    </tr>\n",
       "    <tr>\n",
       "      <th>37</th>\n",
       "      <td>CHB2-CHAMBRESRMN.B2</td>\n",
       "      <td>CHB2-CHAMBRESRMN°B2</td>\n",
       "    </tr>\n",
       "    <tr>\n",
       "      <th>39</th>\n",
       "      <td>CHB3-CHAMBRESRMN.B3</td>\n",
       "      <td>CHB3-CHAMBRESRMN°B3</td>\n",
       "    </tr>\n",
       "    <tr>\n",
       "      <th>40</th>\n",
       "      <td>CHB1-CHAMBRESRMN.B1</td>\n",
       "      <td>CHB1-CHAMBRESRMN°B1</td>\n",
       "    </tr>\n",
       "    <tr>\n",
       "      <th>41</th>\n",
       "      <td>CHD1-CHAMBRESCMN.D1</td>\n",
       "      <td>CHD1-CHAMBRESCMN°D1</td>\n",
       "    </tr>\n",
       "    <tr>\n",
       "      <th>42</th>\n",
       "      <td>CHB5-CHAMBRESRMN.B5</td>\n",
       "      <td>CHB5-CHAMBRESRMN°B5</td>\n",
       "    </tr>\n",
       "    <tr>\n",
       "      <th>43</th>\n",
       "      <td>P12-CHAMBRE12PÉDIATRIE</td>\n",
       "      <td>P12-CHAMBRE12P�DIATRIE</td>\n",
       "    </tr>\n",
       "    <tr>\n",
       "      <th>44</th>\n",
       "      <td>317-CHAMBRESEULE317SECTEURFERMÉ</td>\n",
       "      <td>317-CHAMBRESEULE317</td>\n",
       "    </tr>\n",
       "    <tr>\n",
       "      <th>45</th>\n",
       "      <td>317-CHAMBRESEULE317SECTEURFERMÉ</td>\n",
       "      <td>317-CHAMBRESEULE317SECTEURFERM�</td>\n",
       "    </tr>\n",
       "    <tr>\n",
       "      <th>46</th>\n",
       "      <td>P05-CHAMBRE5PÉDIATRIE</td>\n",
       "      <td>P05-CHAMBRE5P�DIATRIE</td>\n",
       "    </tr>\n",
       "    <tr>\n",
       "      <th>48</th>\n",
       "      <td>316-CHAMBRESEULE316SECTEURFERMÉ</td>\n",
       "      <td>316-CHAMBRESEULE316</td>\n",
       "    </tr>\n",
       "    <tr>\n",
       "      <th>49</th>\n",
       "      <td>316-CHAMBRESEULE316SECTEURFERMÉ</td>\n",
       "      <td>316-CHAMBRESEULE316SECTEURFERM�</td>\n",
       "    </tr>\n",
       "    <tr>\n",
       "      <th>50</th>\n",
       "      <td>CHA4-CHAMBRESRMN.A4</td>\n",
       "      <td>CHA4-CHAMBRESRMN°A4</td>\n",
       "    </tr>\n",
       "    <tr>\n",
       "      <th>51</th>\n",
       "      <td>CHE5-CHAMBRESCMN.E5</td>\n",
       "      <td>CHE5-CHAMBRESCMN°E5</td>\n",
       "    </tr>\n",
       "    <tr>\n",
       "      <th>52</th>\n",
       "      <td>P08-CHAMBRE8PÉDIATRIE</td>\n",
       "      <td>P08-CHAMBRE8P�DIATRIE</td>\n",
       "    </tr>\n",
       "    <tr>\n",
       "      <th>53</th>\n",
       "      <td>CHE3-CHAMBRESCMN.E3</td>\n",
       "      <td>CHE3-CHAMBRESCMN°E3</td>\n",
       "    </tr>\n",
       "  </tbody>\n",
       "</table>\n",
       "</div>"
      ],
      "text/plain": [
       "                         room_orbis                      room_sirius\n",
       "1               CHA1-CHAMBRESRMN.A1              CHA1-CHAMBRESRMN°A1\n",
       "2            P14-CHAMBRE14PÉDIATRIE           P14-CHAMBRE14P�DIATRIE\n",
       "3               CHA5-CHAMBRESRMN.A5              CHA5-CHAMBRESRMN°A5\n",
       "4               CHD4-CHAMBRESCMN.D4              CHD4-CHAMBRESCMN°D4\n",
       "5               CHD2-CHAMBRESCMN.D2              CHD2-CHAMBRESCMN°D2\n",
       "6             P02-CHAMBRE2PÉDIATRIE            P02-CHAMBRE2P�DIATRIE\n",
       "7               CHE2-CHAMBRESCMN.E2              CHE2-CHAMBRESCMN°E2\n",
       "8               CHB4-CHAMBRESRMN.B4              CHB4-CHAMBRESRMN°B4\n",
       "9             P01-CHAMBRE1PÉDIATRIE            P01-CHAMBRE1P�DIATRIE\n",
       "10              CHA2-CHAMBRESRMN.A2              CHA2-CHAMBRESRMN°A2\n",
       "11           P11-CHAMBRE11PÉDIATRIE           P11-CHAMBRE11P�DIATRIE\n",
       "12              CHC2-CHAMBRESRMN.C2              CHC2-CHAMBRESRMN°C2\n",
       "14           P11-CHAMBRE11PÉDIATRIE           P11-CHAMBRE11P�DIATRIE\n",
       "15  321-CHAMBRESEULE321SECTEURFERMÉ              321-CHAMBRESEULE321\n",
       "16  321-CHAMBRESEULE321SECTEURFERMÉ  321-CHAMBRESEULE321SECTEURFERM�\n",
       "17           P10-CHAMBRE10PÉDIATRIE           P10-CHAMBRE10P�DIATRIE\n",
       "19  318-CHAMBRESEULE318SECTEURFERMÉ              318-CHAMBRESEULE318\n",
       "20  318-CHAMBRESEULE318SECTEURFERMÉ  318-CHAMBRESEULE318SECTEURFERM�\n",
       "21           P10-CHAMBRE10PÉDIATRIE           P10-CHAMBRE10P�DIATRIE\n",
       "22            P04-CHAMBRE4PÉDIATRIE            P04-CHAMBRE4P�DIATRIE\n",
       "23              CHE4-CHAMBRESCMN.E4              CHE4-CHAMBRESCMN°E4\n",
       "24              CHC4-CHAMBRESRMN.C4              CHC4-CHAMBRESRMN°C4\n",
       "25            P09-CHAMBRE9PÉDIATRIE            P09-CHAMBRE9P�DIATRIE\n",
       "26  319-CHAMBRESEULE319SECTEURFERMÉ              319-CHAMBRESEULE319\n",
       "27  319-CHAMBRESEULE319SECTEURFERMÉ  319-CHAMBRESEULE319SECTEURFERM�\n",
       "28              CHE1-CHAMBRESCMN.E1              CHE1-CHAMBRESCMN°E1\n",
       "29              CHD5-CHAMBRESCMN.D5              CHD5-CHAMBRESCMN°D5\n",
       "30              CHA3-CHAMBRESRMN.A3              CHA3-CHAMBRESRMN°A3\n",
       "31            P03-CHAMBRE3PÉDIATRIE            P03-CHAMBRE3P�DIATRIE\n",
       "32              CHD3-CHAMBRESCMN.D3              CHD3-CHAMBRESCMN°D3\n",
       "33           P14-CHAMBRE14PÉDIATRIE           P14-CHAMBRE14P�DIATRIE\n",
       "34           P12-CHAMBRE12PÉDIATRIE           P12-CHAMBRE12P�DIATRIE\n",
       "35              CHC1-CHAMBRESRMN.C1              CHC1-CHAMBRESRMN°C1\n",
       "36              CHC3-CHAMBRESRMN.C3              CHC3-CHAMBRESRMN°C3\n",
       "37              CHB2-CHAMBRESRMN.B2              CHB2-CHAMBRESRMN°B2\n",
       "39              CHB3-CHAMBRESRMN.B3              CHB3-CHAMBRESRMN°B3\n",
       "40              CHB1-CHAMBRESRMN.B1              CHB1-CHAMBRESRMN°B1\n",
       "41              CHD1-CHAMBRESCMN.D1              CHD1-CHAMBRESCMN°D1\n",
       "42              CHB5-CHAMBRESRMN.B5              CHB5-CHAMBRESRMN°B5\n",
       "43           P12-CHAMBRE12PÉDIATRIE           P12-CHAMBRE12P�DIATRIE\n",
       "44  317-CHAMBRESEULE317SECTEURFERMÉ              317-CHAMBRESEULE317\n",
       "45  317-CHAMBRESEULE317SECTEURFERMÉ  317-CHAMBRESEULE317SECTEURFERM�\n",
       "46            P05-CHAMBRE5PÉDIATRIE            P05-CHAMBRE5P�DIATRIE\n",
       "48  316-CHAMBRESEULE316SECTEURFERMÉ              316-CHAMBRESEULE316\n",
       "49  316-CHAMBRESEULE316SECTEURFERMÉ  316-CHAMBRESEULE316SECTEURFERM�\n",
       "50              CHA4-CHAMBRESRMN.A4              CHA4-CHAMBRESRMN°A4\n",
       "51              CHE5-CHAMBRESCMN.E5              CHE5-CHAMBRESCMN°E5\n",
       "52            P08-CHAMBRE8PÉDIATRIE            P08-CHAMBRE8P�DIATRIE\n",
       "53              CHE3-CHAMBRESCMN.E3              CHE3-CHAMBRESCMN°E3"
      ]
     },
     "execution_count": 27,
     "metadata": {},
     "output_type": "execute_result"
    }
   ],
   "source": [
    "df_gap.query(\"code_hospital.notnull()\")[['room_x', \n",
    "                                         'room_y']]\\\n",
    "      .rename(columns={'room_x':'room_orbis',\n",
    "                       'room_y':'room_sirius'})"
   ]
  },
  {
   "cell_type": "code",
   "execution_count": 28,
   "metadata": {},
   "outputs": [
    {
     "name": "stdout",
     "output_type": "stream",
     "text": [
      "il y a 40 patients avec une difference de label . Reste a expliquer 4 patients\n"
     ]
    }
   ],
   "source": [
    "n_patients_with_label_diff =\\\n",
    "    len(df_gap.query(\"code_hospital.notnull()\")\\\n",
    "              .drop_duplicates(['room_x', \n",
    "                                'hospital_name']))\n",
    "n_patients_remaining = n_patients_remaining - n_patients_with_label_diff\n",
    "\n",
    "print('il y a {n_patients_with_label_diff} patients avec une difference de label'\n",
    "      ' . Reste a expliquer {n_patients_remaining} patients'\\\n",
    "      .format(n_patients_with_label_diff=n_patients_with_label_diff,\n",
    "              n_patients_remaining=n_patients_remaining))"
   ]
  },
  {
   "cell_type": "markdown",
   "metadata": {},
   "source": [
    "## Capacitaire"
   ]
  },
  {
   "cell_type": "code",
   "execution_count": 29,
   "metadata": {},
   "outputs": [],
   "source": [
    "# merge capacitaire \n",
    "\n",
    "orbis =\\\n",
    "    pd.merge(orbis,\n",
    "             capacitaire,\n",
    "             how='left',\n",
    "             on=['hospital_name', \n",
    "                 'covid_service'])"
   ]
  },
  {
   "cell_type": "code",
   "execution_count": 30,
   "metadata": {},
   "outputs": [],
   "source": [
    "df = orbis.groupby(['hospital_name', \n",
    "               'covid_service'])\\\n",
    "     .agg({'ipp': 'nunique',\n",
    "           'is_covid': 'sum',\n",
    "           'lits_ouverts': 'max',\n",
    "           'lits_ouverts_covid': 'max'})\\\n",
    "     .reset_index()\\\n",
    "     .fillna(0)"
   ]
  },
  {
   "cell_type": "code",
   "execution_count": 59,
   "metadata": {},
   "outputs": [
    {
     "data": {
      "text/html": [
       "<div>\n",
       "<style scoped>\n",
       "    .dataframe tbody tr th:only-of-type {\n",
       "        vertical-align: middle;\n",
       "    }\n",
       "\n",
       "    .dataframe tbody tr th {\n",
       "        vertical-align: top;\n",
       "    }\n",
       "\n",
       "    .dataframe thead th {\n",
       "        text-align: right;\n",
       "    }\n",
       "</style>\n",
       "<table border=\"1\" class=\"dataframe\">\n",
       "  <thead>\n",
       "    <tr style=\"text-align: right;\">\n",
       "      <th></th>\n",
       "      <th>hospital_name</th>\n",
       "      <th>covid_service</th>\n",
       "      <th>ipp</th>\n",
       "      <th>is_covid</th>\n",
       "      <th>lits_ouverts</th>\n",
       "      <th>lits_ouverts_covid</th>\n",
       "    </tr>\n",
       "  </thead>\n",
       "  <tbody>\n",
       "    <tr>\n",
       "      <th>0</th>\n",
       "      <td>ABC</td>\n",
       "      <td>COVID 14</td>\n",
       "      <td>11</td>\n",
       "      <td>7</td>\n",
       "      <td>14.0</td>\n",
       "      <td>14.0</td>\n",
       "    </tr>\n",
       "    <tr>\n",
       "      <th>1</th>\n",
       "      <td>ABC</td>\n",
       "      <td>COVID 30 (ex chir viscéral et digestive)</td>\n",
       "      <td>27</td>\n",
       "      <td>19</td>\n",
       "      <td>0.0</td>\n",
       "      <td>0.0</td>\n",
       "    </tr>\n",
       "    <tr>\n",
       "      <th>2</th>\n",
       "      <td>ABC</td>\n",
       "      <td>HGE</td>\n",
       "      <td>24</td>\n",
       "      <td>0</td>\n",
       "      <td>27.0</td>\n",
       "      <td>0.0</td>\n",
       "    </tr>\n",
       "    <tr>\n",
       "      <th>3</th>\n",
       "      <td>ABC</td>\n",
       "      <td>MAP COVID + ET COVID -</td>\n",
       "      <td>23</td>\n",
       "      <td>16</td>\n",
       "      <td>0.0</td>\n",
       "      <td>0.0</td>\n",
       "    </tr>\n",
       "    <tr>\n",
       "      <th>4</th>\n",
       "      <td>ABC</td>\n",
       "      <td>MATERNITE</td>\n",
       "      <td>84</td>\n",
       "      <td>4</td>\n",
       "      <td>0.0</td>\n",
       "      <td>0.0</td>\n",
       "    </tr>\n",
       "  </tbody>\n",
       "</table>\n",
       "</div>"
      ],
      "text/plain": [
       "  hospital_name                             covid_service  ipp  is_covid  \\\n",
       "0           ABC                                  COVID 14   11         7   \n",
       "1           ABC  COVID 30 (ex chir viscéral et digestive)   27        19   \n",
       "2           ABC                                       HGE   24         0   \n",
       "3           ABC                    MAP COVID + ET COVID -   23        16   \n",
       "4           ABC                                 MATERNITE   84         4   \n",
       "\n",
       "   lits_ouverts  lits_ouverts_covid  \n",
       "0          14.0                14.0  \n",
       "1           0.0                 0.0  \n",
       "2          27.0                 0.0  \n",
       "3           0.0                 0.0  \n",
       "4           0.0                 0.0  "
      ]
     },
     "execution_count": 59,
     "metadata": {},
     "output_type": "execute_result"
    }
   ],
   "source": [
    "df.head()"
   ]
  },
  {
   "cell_type": "code",
   "execution_count": null,
   "metadata": {},
   "outputs": [],
   "source": []
  }
 ],
 "metadata": {
  "kernelspec": {
   "display_name": "Python 3",
   "language": "python",
   "name": "python3"
  },
  "language_info": {
   "codemirror_mode": {
    "name": "ipython",
    "version": 3
   },
   "file_extension": ".py",
   "mimetype": "text/x-python",
   "name": "python",
   "nbconvert_exporter": "python",
   "pygments_lexer": "ipython3",
   "version": "3.7.3"
  }
 },
 "nbformat": 4,
 "nbformat_minor": 2
}
