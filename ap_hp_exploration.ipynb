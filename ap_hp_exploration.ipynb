{
 "cells": [
  {
   "cell_type": "markdown",
   "metadata": {},
   "source": [
    "### AP-HP Data exploration"
   ]
  },
  {
   "cell_type": "markdown",
   "metadata": {},
   "source": [
    "Dans ce notebook, nous analysons les données issues du GH Paris Saclay pour remonter de possibles erreurs ou incohérences dans les données."
   ]
  },
  {
   "cell_type": "code",
   "execution_count": 220,
   "metadata": {},
   "outputs": [],
   "source": [
    "import pandas as pd\n",
    "\n",
    "# deactivate warnings for chaining \n",
    "pd.options.mode.chained_assignment = None"
   ]
  },
  {
   "cell_type": "code",
   "execution_count": 221,
   "metadata": {},
   "outputs": [],
   "source": [
    "# Constants \n",
    "\n",
    "code_hospital = {\n",
    "  9: 'BRK',\n",
    "  10: 'BCT',\n",
    "  14: 'APR',\n",
    "  28: 'ABC',\n",
    "  68: 'RPC',\n",
    "  79: 'SPR',\n",
    "  96: 'PBR',\n",
    "}\n",
    "\n",
    "hospital_name = {\n",
    "  'BRK': 'BERCK',\n",
    "  'BCT': 'BICETRE',\n",
    "  'PBR': 'PAUL-BROUSSE',\n",
    "  'ABC': 'ANTOINE BECLERE',\n",
    "  'SPR': 'SAINTE PERINE',\n",
    "  'APR': 'AMBROISE PARE',\n",
    "  'RPC': 'RAYMOND POINCARE',\n",
    "}\n"
   ]
  },
  {
   "cell_type": "code",
   "execution_count": 222,
   "metadata": {},
   "outputs": [],
   "source": [
    "# import excel files \n",
    "\n",
    "orbis = pd.read_csv('data/orbis.csv', sep=';', encoding='cp1252')\n",
    "pacs = pd.read_excel('data/pacs.xlsx')\n",
    "glims = pd.read_excel('data/glims.xlsx')\n",
    "capacitaire = pd.read_excel('data/capacitaire.xlsx')\n",
    "sirius = pd.read_excel('data/sirius.xlsx')"
   ]
  },
  {
   "cell_type": "markdown",
   "metadata": {},
   "source": [
    "## Data Cleaning"
   ]
  },
  {
   "cell_type": "code",
   "execution_count": 223,
   "metadata": {},
   "outputs": [],
   "source": [
    "# Orbis - take only relevant columns, rename and extract chambre code\n",
    "\n",
    "orbis = orbis[['IPP', 'Chambre', 'U.Responsabilité']]\n",
    "orbis.rename(columns={'IPP':'ipp', 'Chambre':'room'}, \n",
    "             inplace=True)\n",
    "\n",
    "# Extract code chambre from chambre (e.g: C134 from C134 - CHAMBRE SEULE C134)\n",
    "orbis['code_room'] = orbis['room'].str.split(r\"\\ - \", expand=True)[0]\n",
    "\n",
    "# Extract hospital name from U.Responsabilité (e.g: ABC from 028081 - ABC OBSTETRIQUE (UF))\n",
    "orbis['hospital_name'] = orbis['U.Responsabilité'].str.split(r\"\\ - \", expand=True)[1].str[0:3]\n",
    "\n",
    "orbis = orbis[['ipp', 'code_room', 'room', 'hospital_name']]"
   ]
  },
  {
   "cell_type": "code",
   "execution_count": 224,
   "metadata": {},
   "outputs": [],
   "source": [
    "# Glims - rename columns, drop_duplicates, map is_pcr value to 1\n",
    "\n",
    "glims = glims[['ipp', 'is_pcr']]\n",
    "glims.drop_duplicates('ipp', inplace=True) #note: drop_duplicate only returns first value for each IPP\n",
    "glims['is_pcr'] = glims['is_pcr'].map({'Positif':1})"
   ]
  },
  {
   "cell_type": "code",
   "execution_count": 225,
   "metadata": {},
   "outputs": [],
   "source": [
    "# Pacs - select columns, drop_duplicates\n",
    "pacs = pacs[['ipp', 'radio']]\n",
    "pacs.drop_duplicates('ipp', inplace=True)"
   ]
  },
  {
   "cell_type": "code",
   "execution_count": 226,
   "metadata": {},
   "outputs": [],
   "source": [
    "# Capacitaire, rename is_covid column\n",
    "capacitaire.rename(columns={'Full COVID 1/0':'is_covid_dedicated',\n",
    "                            'hopital':'hospital_name',\n",
    "                            'service_covid':'covid_service'}, inplace=True)\n",
    "\n",
    "# Capacitaire, rename is_covid column\n",
    "capacitaire.drop_duplicates(['hospital_name', 'covid_service'], inplace=True)"
   ]
  },
  {
   "cell_type": "code",
   "execution_count": 227,
   "metadata": {},
   "outputs": [],
   "source": [
    "# Sirius, select columns, rename and filter \n",
    "sirius = sirius[['Hopital', \n",
    "                 'Intitulé Site Crise COVID', \n",
    "                 'Retenir ligne O/N',\n",
    "                 'Libelle Chambre',\n",
    "                 'Code Chambre']]\n",
    "\n",
    "sirius.rename(columns={'Hopital':'code_hospital',\n",
    "                       'Intitulé Site Crise COVID': 'covid_service',\n",
    "                       'Retenir ligne O/N':'filter_row',\n",
    "                       'Code Chambre':'code_room',\n",
    "                       'Libelle Chambre':'label_room'},\n",
    "             inplace=True)\n",
    "\n",
    "sirius['label_room'] = sirius['label_room'].astype(str)\n",
    "sirius['code_room'] = sirius['code_room'].astype(str)\n",
    "\n",
    "# only filter row with OUI \n",
    "sirius = sirius.query(\"filter_row=='OUI'\")\n",
    "\n",
    "#create room as concatenate of code_room and label_room\n",
    "\n",
    "sirius['room'] = sirius[['code_room', 'label_room']].agg(' - '.join, axis=1)\n",
    "\n",
    "sirius.drop('filter_row', axis=1, inplace=True)"
   ]
  },
  {
   "cell_type": "markdown",
   "metadata": {},
   "source": [
    "## Merge"
   ]
  },
  {
   "cell_type": "code",
   "execution_count": 228,
   "metadata": {},
   "outputs": [],
   "source": [
    "# merge Orbis with Glims\n",
    "\n",
    "orbis =\\\n",
    "    pd.merge(orbis,\n",
    "             glims,\n",
    "             on='ipp',\n",
    "             how='left')\n",
    "\n",
    "# merge with Pacs\n",
    "\n",
    "orbis =\\\n",
    "    pd.merge(orbis,\n",
    "             pacs,\n",
    "             on='ipp',\n",
    "             how='left')\n",
    "\n",
    "orbis.fillna(0, inplace=True)"
   ]
  },
  {
   "cell_type": "code",
   "execution_count": 229,
   "metadata": {},
   "outputs": [],
   "source": [
    "# Compute is_covid patient\n",
    "\n",
    "def is_covid(x):\n",
    "    if (x['is_pcr'] + x['radio']) > 0:\n",
    "        return 1\n",
    "    else:\n",
    "        return 0\n",
    "\n",
    "orbis['is_covid'] = orbis.apply(is_covid, axis=1)"
   ]
  },
  {
   "cell_type": "code",
   "execution_count": 230,
   "metadata": {},
   "outputs": [
    {
     "name": "stdout",
     "output_type": "stream",
     "text": [
      "il y a 98 patients sans Chambre dans Orbis dont 8 Covid positif:\n"
     ]
    },
    {
     "data": {
      "text/html": [
       "<div>\n",
       "<style scoped>\n",
       "    .dataframe tbody tr th:only-of-type {\n",
       "        vertical-align: middle;\n",
       "    }\n",
       "\n",
       "    .dataframe tbody tr th {\n",
       "        vertical-align: top;\n",
       "    }\n",
       "\n",
       "    .dataframe thead th {\n",
       "        text-align: right;\n",
       "    }\n",
       "</style>\n",
       "<table border=\"1\" class=\"dataframe\">\n",
       "  <thead>\n",
       "    <tr style=\"text-align: right;\">\n",
       "      <th></th>\n",
       "      <th>ipp</th>\n",
       "      <th>code_room</th>\n",
       "      <th>room</th>\n",
       "      <th>hospital_name</th>\n",
       "      <th>is_pcr</th>\n",
       "      <th>radio</th>\n",
       "      <th>is_covid</th>\n",
       "    </tr>\n",
       "  </thead>\n",
       "  <tbody>\n",
       "    <tr>\n",
       "      <th>118</th>\n",
       "      <td>8003232267</td>\n",
       "      <td></td>\n",
       "      <td>-</td>\n",
       "      <td>ABC</td>\n",
       "      <td>1.0</td>\n",
       "      <td>0.0</td>\n",
       "      <td>1</td>\n",
       "    </tr>\n",
       "    <tr>\n",
       "      <th>381</th>\n",
       "      <td>8014201282</td>\n",
       "      <td></td>\n",
       "      <td>-</td>\n",
       "      <td>APR</td>\n",
       "      <td>1.0</td>\n",
       "      <td>0.0</td>\n",
       "      <td>1</td>\n",
       "    </tr>\n",
       "    <tr>\n",
       "      <th>402</th>\n",
       "      <td>8001043127</td>\n",
       "      <td></td>\n",
       "      <td>-</td>\n",
       "      <td>APR</td>\n",
       "      <td>1.0</td>\n",
       "      <td>0.0</td>\n",
       "      <td>1</td>\n",
       "    </tr>\n",
       "    <tr>\n",
       "      <th>760</th>\n",
       "      <td>8014207211</td>\n",
       "      <td></td>\n",
       "      <td>-</td>\n",
       "      <td>BCT</td>\n",
       "      <td>1.0</td>\n",
       "      <td>0.0</td>\n",
       "      <td>1</td>\n",
       "    </tr>\n",
       "    <tr>\n",
       "      <th>780</th>\n",
       "      <td>8014213145</td>\n",
       "      <td></td>\n",
       "      <td>-</td>\n",
       "      <td>BCT</td>\n",
       "      <td>1.0</td>\n",
       "      <td>0.0</td>\n",
       "      <td>1</td>\n",
       "    </tr>\n",
       "    <tr>\n",
       "      <th>821</th>\n",
       "      <td>8008578325</td>\n",
       "      <td></td>\n",
       "      <td>-</td>\n",
       "      <td>BCT</td>\n",
       "      <td>1.0</td>\n",
       "      <td>0.0</td>\n",
       "      <td>1</td>\n",
       "    </tr>\n",
       "    <tr>\n",
       "      <th>1182</th>\n",
       "      <td>8014232794</td>\n",
       "      <td></td>\n",
       "      <td>-</td>\n",
       "      <td>BCT</td>\n",
       "      <td>1.0</td>\n",
       "      <td>0.0</td>\n",
       "      <td>1</td>\n",
       "    </tr>\n",
       "    <tr>\n",
       "      <th>1301</th>\n",
       "      <td>8008890155</td>\n",
       "      <td></td>\n",
       "      <td>-</td>\n",
       "      <td>BCT</td>\n",
       "      <td>1.0</td>\n",
       "      <td>0.0</td>\n",
       "      <td>1</td>\n",
       "    </tr>\n",
       "  </tbody>\n",
       "</table>\n",
       "</div>"
      ],
      "text/plain": [
       "             ipp code_room room hospital_name  is_pcr  radio  is_covid\n",
       "118   8003232267             -            ABC     1.0    0.0         1\n",
       "381   8014201282             -            APR     1.0    0.0         1\n",
       "402   8001043127             -            APR     1.0    0.0         1\n",
       "760   8014207211             -            BCT     1.0    0.0         1\n",
       "780   8014213145             -            BCT     1.0    0.0         1\n",
       "821   8008578325             -            BCT     1.0    0.0         1\n",
       "1182  8014232794             -            BCT     1.0    0.0         1\n",
       "1301  8008890155             -            BCT     1.0    0.0         1"
      ]
     },
     "execution_count": 230,
     "metadata": {},
     "output_type": "execute_result"
    }
   ],
   "source": [
    "# How many Covid patients do not have a room associated with ? \n",
    "print('il y a {n_patients_no_room} patients sans'\n",
    "       ' Chambre dans Orbis dont {n_patients_no_room_covid} Covid positif:'\\\n",
    "      .format(n_patients_no_room = len(orbis.query(\"code_room == ''\")),\n",
    "              n_patients_no_room_covid = len(orbis.query(\"code_room == ''\").query(\"is_covid==1\")),\n",
    "             ))\n",
    "\n",
    "orbis.query(\"code_room == ''\").query(\"is_covid==1\")"
   ]
  },
  {
   "cell_type": "code",
   "execution_count": 231,
   "metadata": {},
   "outputs": [],
   "source": [
    "# add hospital_name to sirius \n",
    "\n",
    "sirius['hospital_name'] = sirius['code_hospital'].map(code_hospital)"
   ]
  },
  {
   "cell_type": "code",
   "execution_count": 232,
   "metadata": {},
   "outputs": [],
   "source": [
    "# merge Sirius and Orbis\n",
    "\n",
    "orbis =\\\n",
    "    pd.merge(orbis,\n",
    "             sirius,\n",
    "             how='left',\n",
    "             on=['hospital_name', \n",
    "                 'room'])"
   ]
  },
  {
   "cell_type": "markdown",
   "metadata": {},
   "source": [
    "### Discrepancies between Sirius and Orbis room matching"
   ]
  },
  {
   "cell_type": "markdown",
   "metadata": {},
   "source": [
    "After a left merge on the room matching key, we end up with rooms that do not match in Sirius. "
   ]
  },
  {
   "cell_type": "code",
   "execution_count": 233,
   "metadata": {},
   "outputs": [
    {
     "name": "stdout",
     "output_type": "stream",
     "text": [
      "il y a 294 chambres Orbis qu'on ne retrouve pas dans Sirius\n"
     ]
    }
   ],
   "source": [
    "print('il y a {n_rooms_missing} chambres Orbis'\n",
    "      ' qu\\'on ne retrouve pas dans Sirius'\\\n",
    "      .format(n_rooms_missing=len(orbis.query(\"code_hospital.isnull()\"))))"
   ]
  },
  {
   "cell_type": "markdown",
   "metadata": {},
   "source": [
    "Why is it the case? Let's look at the difference in label in the two files: "
   ]
  },
  {
   "cell_type": "code",
   "execution_count": 234,
   "metadata": {},
   "outputs": [],
   "source": [
    "# create a df with the rooms that did not find a match in Sirius\n",
    "\n",
    "room_gap = orbis[orbis['covid_service'].isna()][['code_room_x', 'room', 'hospital_name']]\n",
    "room_gap.rename(columns={'code_room_x':'code_room'}, \n",
    "                inplace=True)"
   ]
  },
  {
   "cell_type": "markdown",
   "metadata": {},
   "source": [
    "A first reason is that the code_room in Orbis can be empty. This can be patients that have not yet a room allocated or newborns that sleep with their mama. How many are those? "
   ]
  },
  {
   "cell_type": "code",
   "execution_count": 235,
   "metadata": {},
   "outputs": [
    {
     "name": "stdout",
     "output_type": "stream",
     "text": [
      "il y a 98 patients dans Orbis sans chambre. Reste a expliquer 196 patients\n"
     ]
    }
   ],
   "source": [
    "n_patients_with_no_rooms_in_orbis = len(room_gap.query(\"code_room == ''\"))\n",
    "n_patients_remaining = len(orbis.query(\"code_hospital.isnull()\")) - n_patients_with_no_rooms_in_orbis\n",
    "\n",
    "print('il y a {n_patients_with_no_rooms_in_orbis} patients dans Orbis'\n",
    "      ' sans chambre. Reste a expliquer {n_patients_remaining} patients'\\\n",
    "      .format(n_patients_with_no_rooms_in_orbis=n_patients_with_no_rooms_in_orbis,\n",
    "              n_patients_remaining=n_patients_remaining))"
   ]
  },
  {
   "cell_type": "code",
   "execution_count": 236,
   "metadata": {},
   "outputs": [],
   "source": [
    "# merge room_gap with sirius only on those that have a code_room in Sirius\n",
    "\n",
    "df_gap = pd.merge(room_gap.query(\"code_room != ''\"),\n",
    "         sirius,\n",
    "         on=['code_room', 'hospital_name'],\n",
    "         how='left')"
   ]
  },
  {
   "cell_type": "markdown",
   "metadata": {},
   "source": [
    "Another reason is that the code_room does not match. This can be because when imported, sirius Excel file cast columns and consider some rows as string or integer. See below an example for code_room '04' in Orbis and '4' in Sirius: "
   ]
  },
  {
   "cell_type": "code",
   "execution_count": 237,
   "metadata": {},
   "outputs": [
    {
     "data": {
      "text/html": [
       "<div>\n",
       "<style scoped>\n",
       "    .dataframe tbody tr th:only-of-type {\n",
       "        vertical-align: middle;\n",
       "    }\n",
       "\n",
       "    .dataframe tbody tr th {\n",
       "        vertical-align: top;\n",
       "    }\n",
       "\n",
       "    .dataframe thead th {\n",
       "        text-align: right;\n",
       "    }\n",
       "</style>\n",
       "<table border=\"1\" class=\"dataframe\">\n",
       "  <thead>\n",
       "    <tr style=\"text-align: right;\">\n",
       "      <th></th>\n",
       "      <th>code_room</th>\n",
       "      <th>room_x</th>\n",
       "      <th>hospital_name</th>\n",
       "      <th>code_hospital</th>\n",
       "      <th>covid_service</th>\n",
       "      <th>label_room</th>\n",
       "      <th>room_y</th>\n",
       "    </tr>\n",
       "  </thead>\n",
       "  <tbody>\n",
       "    <tr>\n",
       "      <th>2</th>\n",
       "      <td>04</td>\n",
       "      <td>04 - CHAMBRE 04 USR</td>\n",
       "      <td>BCT</td>\n",
       "      <td>NaN</td>\n",
       "      <td>NaN</td>\n",
       "      <td>NaN</td>\n",
       "      <td>NaN</td>\n",
       "    </tr>\n",
       "    <tr>\n",
       "      <th>4</th>\n",
       "      <td>04</td>\n",
       "      <td>04 - CHAMBRE 04 USR</td>\n",
       "      <td>BCT</td>\n",
       "      <td>NaN</td>\n",
       "      <td>NaN</td>\n",
       "      <td>NaN</td>\n",
       "      <td>NaN</td>\n",
       "    </tr>\n",
       "  </tbody>\n",
       "</table>\n",
       "</div>"
      ],
      "text/plain": [
       "  code_room               room_x hospital_name  code_hospital covid_service  \\\n",
       "2        04  04 - CHAMBRE 04 USR           BCT            NaN           NaN   \n",
       "4        04  04 - CHAMBRE 04 USR           BCT            NaN           NaN   \n",
       "\n",
       "  label_room room_y  \n",
       "2        NaN    NaN  \n",
       "4        NaN    NaN  "
      ]
     },
     "execution_count": 237,
     "metadata": {},
     "output_type": "execute_result"
    }
   ],
   "source": [
    "df_gap.query(\"code_room=='04'\")"
   ]
  },
  {
   "cell_type": "code",
   "execution_count": 238,
   "metadata": {},
   "outputs": [
    {
     "data": {
      "text/html": [
       "<div>\n",
       "<style scoped>\n",
       "    .dataframe tbody tr th:only-of-type {\n",
       "        vertical-align: middle;\n",
       "    }\n",
       "\n",
       "    .dataframe tbody tr th {\n",
       "        vertical-align: top;\n",
       "    }\n",
       "\n",
       "    .dataframe thead th {\n",
       "        text-align: right;\n",
       "    }\n",
       "</style>\n",
       "<table border=\"1\" class=\"dataframe\">\n",
       "  <thead>\n",
       "    <tr style=\"text-align: right;\">\n",
       "      <th></th>\n",
       "      <th>code_hospital</th>\n",
       "      <th>covid_service</th>\n",
       "      <th>label_room</th>\n",
       "      <th>code_room</th>\n",
       "      <th>room</th>\n",
       "      <th>hospital_name</th>\n",
       "    </tr>\n",
       "  </thead>\n",
       "  <tbody>\n",
       "    <tr>\n",
       "      <th>3148</th>\n",
       "      <td>10</td>\n",
       "      <td>ZSTCD ADULTES</td>\n",
       "      <td>CHAMBRE SEULE 04</td>\n",
       "      <td>4</td>\n",
       "      <td>4 - CHAMBRE SEULE 04</td>\n",
       "      <td>BCT</td>\n",
       "    </tr>\n",
       "    <tr>\n",
       "      <th>3953</th>\n",
       "      <td>10</td>\n",
       "      <td>USR</td>\n",
       "      <td>CHAMBRE 04 USR</td>\n",
       "      <td>4</td>\n",
       "      <td>4 - CHAMBRE 04 USR</td>\n",
       "      <td>BCT</td>\n",
       "    </tr>\n",
       "  </tbody>\n",
       "</table>\n",
       "</div>"
      ],
      "text/plain": [
       "      code_hospital  covid_service        label_room code_room  \\\n",
       "3148             10  ZSTCD ADULTES  CHAMBRE SEULE 04         4   \n",
       "3953             10            USR    CHAMBRE 04 USR         4   \n",
       "\n",
       "                      room hospital_name  \n",
       "3148  4 - CHAMBRE SEULE 04           BCT  \n",
       "3953    4 - CHAMBRE 04 USR           BCT  "
      ]
     },
     "execution_count": 238,
     "metadata": {},
     "output_type": "execute_result"
    }
   ],
   "source": [
    "sirius.query(\"code_room=='4'\").query(\"hospital_name=='BCT'\")"
   ]
  },
  {
   "cell_type": "markdown",
   "metadata": {},
   "source": [
    "Note that it is not as straightforward as adding one trailing 0. Some room code have two trailing zeros for instance: "
   ]
  },
  {
   "cell_type": "code",
   "execution_count": 239,
   "metadata": {},
   "outputs": [
    {
     "data": {
      "text/html": [
       "<div>\n",
       "<style scoped>\n",
       "    .dataframe tbody tr th:only-of-type {\n",
       "        vertical-align: middle;\n",
       "    }\n",
       "\n",
       "    .dataframe tbody tr th {\n",
       "        vertical-align: top;\n",
       "    }\n",
       "\n",
       "    .dataframe thead th {\n",
       "        text-align: right;\n",
       "    }\n",
       "</style>\n",
       "<table border=\"1\" class=\"dataframe\">\n",
       "  <thead>\n",
       "    <tr style=\"text-align: right;\">\n",
       "      <th></th>\n",
       "      <th>code_room</th>\n",
       "      <th>room_x</th>\n",
       "      <th>hospital_name</th>\n",
       "      <th>code_hospital</th>\n",
       "      <th>covid_service</th>\n",
       "      <th>label_room</th>\n",
       "      <th>room_y</th>\n",
       "    </tr>\n",
       "  </thead>\n",
       "  <tbody>\n",
       "    <tr>\n",
       "      <th>212</th>\n",
       "      <td>003</td>\n",
       "      <td>003 - SALLE 3</td>\n",
       "      <td>RPC</td>\n",
       "      <td>NaN</td>\n",
       "      <td>NaN</td>\n",
       "      <td>NaN</td>\n",
       "      <td>NaN</td>\n",
       "    </tr>\n",
       "  </tbody>\n",
       "</table>\n",
       "</div>"
      ],
      "text/plain": [
       "    code_room         room_x hospital_name  code_hospital covid_service  \\\n",
       "212       003  003 - SALLE 3           RPC            NaN           NaN   \n",
       "\n",
       "    label_room room_y  \n",
       "212        NaN    NaN  "
      ]
     },
     "execution_count": 239,
     "metadata": {},
     "output_type": "execute_result"
    }
   ],
   "source": [
    "df_gap.query(\"code_room=='003'\")"
   ]
  },
  {
   "cell_type": "code",
   "execution_count": 240,
   "metadata": {},
   "outputs": [
    {
     "data": {
      "text/html": [
       "<div>\n",
       "<style scoped>\n",
       "    .dataframe tbody tr th:only-of-type {\n",
       "        vertical-align: middle;\n",
       "    }\n",
       "\n",
       "    .dataframe tbody tr th {\n",
       "        vertical-align: top;\n",
       "    }\n",
       "\n",
       "    .dataframe thead th {\n",
       "        text-align: right;\n",
       "    }\n",
       "</style>\n",
       "<table border=\"1\" class=\"dataframe\">\n",
       "  <thead>\n",
       "    <tr style=\"text-align: right;\">\n",
       "      <th></th>\n",
       "      <th>code_hospital</th>\n",
       "      <th>covid_service</th>\n",
       "      <th>label_room</th>\n",
       "      <th>code_room</th>\n",
       "      <th>room</th>\n",
       "      <th>hospital_name</th>\n",
       "    </tr>\n",
       "  </thead>\n",
       "  <tbody>\n",
       "    <tr>\n",
       "      <th>1402</th>\n",
       "      <td>68</td>\n",
       "      <td>WIDAL 1 S2 - COVID +</td>\n",
       "      <td>SALLE 3</td>\n",
       "      <td>3</td>\n",
       "      <td>3 - SALLE 3</td>\n",
       "      <td>RPC</td>\n",
       "    </tr>\n",
       "  </tbody>\n",
       "</table>\n",
       "</div>"
      ],
      "text/plain": [
       "      code_hospital          covid_service label_room code_room         room  \\\n",
       "1402             68  WIDAL 1 S2 - COVID +     SALLE 3         3  3 - SALLE 3   \n",
       "\n",
       "     hospital_name  \n",
       "1402           RPC  "
      ]
     },
     "execution_count": 240,
     "metadata": {},
     "output_type": "execute_result"
    }
   ],
   "source": [
    "sirius.query(\"code_room=='3'\").query(\"hospital_name=='RPC'\")"
   ]
  },
  {
   "cell_type": "markdown",
   "metadata": {},
   "source": [
    "Other does not seem to match at all: "
   ]
  },
  {
   "cell_type": "code",
   "execution_count": 241,
   "metadata": {},
   "outputs": [
    {
     "data": {
      "text/html": [
       "<div>\n",
       "<style scoped>\n",
       "    .dataframe tbody tr th:only-of-type {\n",
       "        vertical-align: middle;\n",
       "    }\n",
       "\n",
       "    .dataframe tbody tr th {\n",
       "        vertical-align: top;\n",
       "    }\n",
       "\n",
       "    .dataframe thead th {\n",
       "        text-align: right;\n",
       "    }\n",
       "</style>\n",
       "<table border=\"1\" class=\"dataframe\">\n",
       "  <thead>\n",
       "    <tr style=\"text-align: right;\">\n",
       "      <th></th>\n",
       "      <th>code_room</th>\n",
       "      <th>room_x</th>\n",
       "      <th>hospital_name</th>\n",
       "      <th>code_hospital</th>\n",
       "      <th>covid_service</th>\n",
       "      <th>label_room</th>\n",
       "      <th>room_y</th>\n",
       "    </tr>\n",
       "  </thead>\n",
       "  <tbody>\n",
       "    <tr>\n",
       "      <th>55</th>\n",
       "      <td>L205</td>\n",
       "      <td>L205 - CHAMBRE 5 LAENNEC 0205</td>\n",
       "      <td>BCT</td>\n",
       "      <td>NaN</td>\n",
       "      <td>NaN</td>\n",
       "      <td>NaN</td>\n",
       "      <td>NaN</td>\n",
       "    </tr>\n",
       "  </tbody>\n",
       "</table>\n",
       "</div>"
      ],
      "text/plain": [
       "   code_room                         room_x hospital_name  code_hospital  \\\n",
       "55      L205  L205 - CHAMBRE 5 LAENNEC 0205           BCT            NaN   \n",
       "\n",
       "   covid_service label_room room_y  \n",
       "55           NaN        NaN    NaN  "
      ]
     },
     "execution_count": 241,
     "metadata": {},
     "output_type": "execute_result"
    }
   ],
   "source": [
    "df_gap.query(\"code_room == 'L205'\")"
   ]
  },
  {
   "cell_type": "code",
   "execution_count": 242,
   "metadata": {},
   "outputs": [
    {
     "data": {
      "text/html": [
       "<div>\n",
       "<style scoped>\n",
       "    .dataframe tbody tr th:only-of-type {\n",
       "        vertical-align: middle;\n",
       "    }\n",
       "\n",
       "    .dataframe tbody tr th {\n",
       "        vertical-align: top;\n",
       "    }\n",
       "\n",
       "    .dataframe thead th {\n",
       "        text-align: right;\n",
       "    }\n",
       "</style>\n",
       "<table border=\"1\" class=\"dataframe\">\n",
       "  <thead>\n",
       "    <tr style=\"text-align: right;\">\n",
       "      <th></th>\n",
       "      <th>code_hospital</th>\n",
       "      <th>covid_service</th>\n",
       "      <th>label_room</th>\n",
       "      <th>code_room</th>\n",
       "      <th>room</th>\n",
       "      <th>hospital_name</th>\n",
       "    </tr>\n",
       "  </thead>\n",
       "  <tbody>\n",
       "    <tr>\n",
       "      <th>1412</th>\n",
       "      <td>68</td>\n",
       "      <td>WIDAL 2 S1 - COVID +</td>\n",
       "      <td>CHAMBRE 205</td>\n",
       "      <td>205</td>\n",
       "      <td>205 - CHAMBRE 205</td>\n",
       "      <td>RPC</td>\n",
       "    </tr>\n",
       "  </tbody>\n",
       "</table>\n",
       "</div>"
      ],
      "text/plain": [
       "      code_hospital          covid_service   label_room code_room  \\\n",
       "1412             68  WIDAL 2 S1 - COVID +   CHAMBRE 205       205   \n",
       "\n",
       "                   room hospital_name  \n",
       "1412  205 - CHAMBRE 205           RPC  "
      ]
     },
     "execution_count": 242,
     "metadata": {},
     "output_type": "execute_result"
    }
   ],
   "source": [
    "sirius.query(\"hospital_name == 'RPC'\").query('label_room.str.contains(\"205\")')"
   ]
  },
  {
   "cell_type": "code",
   "execution_count": 243,
   "metadata": {},
   "outputs": [
    {
     "name": "stdout",
     "output_type": "stream",
     "text": [
      "il y a 45 patients dont le code chambre Sirius ne correspond pas dans Orbis. Reste a expliquer 151 patients\n"
     ]
    }
   ],
   "source": [
    "n_patients_with_no_code_room_matching_in_sirius =\\\n",
    "    len(df_gap.drop_duplicates(['room_x', \n",
    "                                'hospital_name']).query('code_hospital.isnull()'))\n",
    "n_patients_remaining = n_patients_remaining - n_patients_with_no_code_room_matching_in_sirius\n",
    "\n",
    "print('il y a {n_patients_with_no_code_room_matching_in_sirius} patients dont le code chambre'\n",
    "      ' Sirius ne correspond pas dans Orbis. Reste a expliquer {n_patients_remaining} patients'\\\n",
    "      .format(n_patients_with_no_code_room_matching_in_sirius=n_patients_with_no_code_room_matching_in_sirius,\n",
    "              n_patients_remaining=n_patients_remaining))"
   ]
  },
  {
   "attachments": {},
   "cell_type": "markdown",
   "metadata": {},
   "source": [
    "Finally, we have room labels that do not match because strings are different. A few examples: \n",
    "\n",
    "- There is a space at the end \"ABC\" vs \"ABC \"\n",
    "- Lower case vs Upper case \"CHAMBRE 5 NEO NATALE\" vs \"Chambre 5 Neo Natale\"\n",
    "- Characters used 321 - \"ferm√©\" vs \"ferm?\""
   ]
  },
  {
   "cell_type": "code",
   "execution_count": 244,
   "metadata": {},
   "outputs": [
    {
     "data": {
      "text/html": [
       "<div>\n",
       "<style scoped>\n",
       "    .dataframe tbody tr th:only-of-type {\n",
       "        vertical-align: middle;\n",
       "    }\n",
       "\n",
       "    .dataframe tbody tr th {\n",
       "        vertical-align: top;\n",
       "    }\n",
       "\n",
       "    .dataframe thead th {\n",
       "        text-align: right;\n",
       "    }\n",
       "</style>\n",
       "<table border=\"1\" class=\"dataframe\">\n",
       "  <thead>\n",
       "    <tr style=\"text-align: right;\">\n",
       "      <th></th>\n",
       "      <th>room_orbis</th>\n",
       "      <th>room_sirius</th>\n",
       "    </tr>\n",
       "  </thead>\n",
       "  <tbody>\n",
       "    <tr>\n",
       "      <th>0</th>\n",
       "      <td>C134 - CHAMBRE SEULE C134</td>\n",
       "      <td>C134 - CHAMBRE SEULE C134</td>\n",
       "    </tr>\n",
       "    <tr>\n",
       "      <th>1</th>\n",
       "      <td>C134 - CHAMBRE SEULE C134</td>\n",
       "      <td>C134 - CHAMBRE SEULE C134</td>\n",
       "    </tr>\n",
       "    <tr>\n",
       "      <th>7</th>\n",
       "      <td>N05 - CHAMBRE 5 NEO NATALE</td>\n",
       "      <td>N05 - Chambre 5 Neo Natale</td>\n",
       "    </tr>\n",
       "    <tr>\n",
       "      <th>9</th>\n",
       "      <td>N07 - CHAMBRE 7 NEO NATALE</td>\n",
       "      <td>N07 - Chambre 7 Neo Natale</td>\n",
       "    </tr>\n",
       "    <tr>\n",
       "      <th>17</th>\n",
       "      <td>218 - CHAMBRE 218 M2I</td>\n",
       "      <td>218 - chambre 218 M2I</td>\n",
       "    </tr>\n",
       "    <tr>\n",
       "      <th>...</th>\n",
       "      <td>...</td>\n",
       "      <td>...</td>\n",
       "    </tr>\n",
       "    <tr>\n",
       "      <th>207</th>\n",
       "      <td>N109 - CHAMBRE 09</td>\n",
       "      <td>N109 - CHAMBRE 09</td>\n",
       "    </tr>\n",
       "    <tr>\n",
       "      <th>210</th>\n",
       "      <td>N309 - CHAMBRE 09</td>\n",
       "      <td>N309 - CHAMBRE 09</td>\n",
       "    </tr>\n",
       "    <tr>\n",
       "      <th>213</th>\n",
       "      <td>N103 - CHAMBRE 03</td>\n",
       "      <td>N103 - CHAMBRE 03</td>\n",
       "    </tr>\n",
       "    <tr>\n",
       "      <th>214</th>\n",
       "      <td>N308 - CHAMBRE 08</td>\n",
       "      <td>N308 - CHAMBRE 08</td>\n",
       "    </tr>\n",
       "    <tr>\n",
       "      <th>215</th>\n",
       "      <td>N304 - CHAMBRE 04</td>\n",
       "      <td>N304 - CHAMBRE 04</td>\n",
       "    </tr>\n",
       "  </tbody>\n",
       "</table>\n",
       "<p>163 rows × 2 columns</p>\n",
       "</div>"
      ],
      "text/plain": [
       "                     room_orbis                 room_sirius\n",
       "0     C134 - CHAMBRE SEULE C134  C134 - CHAMBRE SEULE C134 \n",
       "1     C134 - CHAMBRE SEULE C134  C134 - CHAMBRE SEULE C134 \n",
       "7    N05 - CHAMBRE 5 NEO NATALE  N05 - Chambre 5 Neo Natale\n",
       "9    N07 - CHAMBRE 7 NEO NATALE  N07 - Chambre 7 Neo Natale\n",
       "17        218 - CHAMBRE 218 M2I       218 - chambre 218 M2I\n",
       "..                          ...                         ...\n",
       "207           N109 - CHAMBRE 09          N109 - CHAMBRE 09 \n",
       "210           N309 - CHAMBRE 09          N309 - CHAMBRE 09 \n",
       "213           N103 - CHAMBRE 03          N103 - CHAMBRE 03 \n",
       "214           N308 - CHAMBRE 08          N308 - CHAMBRE 08 \n",
       "215           N304 - CHAMBRE 04          N304 - CHAMBRE 04 \n",
       "\n",
       "[163 rows x 2 columns]"
      ]
     },
     "execution_count": 244,
     "metadata": {},
     "output_type": "execute_result"
    }
   ],
   "source": [
    "df_gap.query(\"code_hospital.notnull()\")[['room_x', \n",
    "                                         'room_y']]\\\n",
    "      .rename(columns={'room_x':'room_orbis',\n",
    "                       'room_y':'room_sirius'})"
   ]
  },
  {
   "cell_type": "code",
   "execution_count": 245,
   "metadata": {},
   "outputs": [
    {
     "name": "stdout",
     "output_type": "stream",
     "text": [
      "il y a 119 patients avec une difference de label . Reste a expliquer 32 patients\n"
     ]
    }
   ],
   "source": [
    "n_patients_with_label_diff =\\\n",
    "    len(df_gap.query(\"code_hospital.notnull()\")\\\n",
    "              .drop_duplicates(['room_x', \n",
    "                                'hospital_name']))\n",
    "n_patients_remaining = n_patients_remaining - n_patients_with_label_diff\n",
    "\n",
    "print('il y a {n_patients_with_label_diff} patients avec une difference de label'\n",
    "      ' . Reste a expliquer {n_patients_remaining} patients'\\\n",
    "      .format(n_patients_with_label_diff=n_patients_with_label_diff,\n",
    "              n_patients_remaining=n_patients_remaining))"
   ]
  },
  {
   "cell_type": "markdown",
   "metadata": {},
   "source": [
    "## Capacitaire"
   ]
  },
  {
   "cell_type": "code",
   "execution_count": 45,
   "metadata": {},
   "outputs": [],
   "source": [
    "# merge capacitaire \n",
    "\n",
    "orbis =\\\n",
    "    pd.merge(orbis,\n",
    "             capacitaire,\n",
    "             how='left',\n",
    "             on=['hospital_name', \n",
    "                 'covid_service'])"
   ]
  },
  {
   "cell_type": "code",
   "execution_count": 46,
   "metadata": {},
   "outputs": [],
   "source": [
    "df = orbis.groupby(['hospital_name', \n",
    "               'covid_service'])\\\n",
    "     .agg({'ipp': 'nunique',\n",
    "           'is_covid': 'sum',\n",
    "           'lits_ouverts': 'max',\n",
    "           'lits_ouverts_covid': 'max'})\\\n",
    "     .reset_index()\\\n",
    "     .fillna(0)"
   ]
  },
  {
   "cell_type": "code",
   "execution_count": 435,
   "metadata": {},
   "outputs": [
    {
     "data": {
      "text/html": [
       "<div>\n",
       "<style scoped>\n",
       "    .dataframe tbody tr th:only-of-type {\n",
       "        vertical-align: middle;\n",
       "    }\n",
       "\n",
       "    .dataframe tbody tr th {\n",
       "        vertical-align: top;\n",
       "    }\n",
       "\n",
       "    .dataframe thead th {\n",
       "        text-align: right;\n",
       "    }\n",
       "</style>\n",
       "<table border=\"1\" class=\"dataframe\">\n",
       "  <thead>\n",
       "    <tr style=\"text-align: right;\">\n",
       "      <th></th>\n",
       "      <th>hospital_name</th>\n",
       "      <th>covid_service</th>\n",
       "      <th>ipp</th>\n",
       "      <th>is_covid</th>\n",
       "      <th>lits_ouverts</th>\n",
       "      <th>lits_ouverts_covid</th>\n",
       "    </tr>\n",
       "  </thead>\n",
       "  <tbody>\n",
       "    <tr>\n",
       "      <th>0</th>\n",
       "      <td>ABC</td>\n",
       "      <td>CHIR DIG/GYNECO/ORTHO MUTUALISE</td>\n",
       "      <td>5</td>\n",
       "      <td>0</td>\n",
       "      <td>8</td>\n",
       "      <td>0.0</td>\n",
       "    </tr>\n",
       "    <tr>\n",
       "      <th>1</th>\n",
       "      <td>ABC</td>\n",
       "      <td>COVID 12 (REA/SC)</td>\n",
       "      <td>9</td>\n",
       "      <td>6</td>\n",
       "      <td>8</td>\n",
       "      <td>8.0</td>\n",
       "    </tr>\n",
       "    <tr>\n",
       "      <th>2</th>\n",
       "      <td>ABC</td>\n",
       "      <td>COVID 14</td>\n",
       "      <td>24</td>\n",
       "      <td>7</td>\n",
       "      <td>14</td>\n",
       "      <td>14.0</td>\n",
       "    </tr>\n",
       "    <tr>\n",
       "      <th>3</th>\n",
       "      <td>ABC</td>\n",
       "      <td>COVID 30</td>\n",
       "      <td>27</td>\n",
       "      <td>19</td>\n",
       "      <td>30</td>\n",
       "      <td>30.0</td>\n",
       "    </tr>\n",
       "    <tr>\n",
       "      <th>4</th>\n",
       "      <td>ABC</td>\n",
       "      <td>HGE</td>\n",
       "      <td>24</td>\n",
       "      <td>0</td>\n",
       "      <td>27</td>\n",
       "      <td>0.0</td>\n",
       "    </tr>\n",
       "  </tbody>\n",
       "</table>\n",
       "</div>"
      ],
      "text/plain": [
       "  hospital_name                    covid_service  ipp  is_covid lits_ouverts  \\\n",
       "0           ABC  CHIR DIG/GYNECO/ORTHO MUTUALISE    5         0            8   \n",
       "1           ABC                COVID 12 (REA/SC)    9         6            8   \n",
       "2           ABC                         COVID 14   24         7           14   \n",
       "3           ABC                         COVID 30   27        19           30   \n",
       "4           ABC                              HGE   24         0           27   \n",
       "\n",
       "   lits_ouverts_covid  \n",
       "0                 0.0  \n",
       "1                 8.0  \n",
       "2                14.0  \n",
       "3                30.0  \n",
       "4                 0.0  "
      ]
     },
     "execution_count": 435,
     "metadata": {},
     "output_type": "execute_result"
    }
   ],
   "source": [
    "df.head()"
   ]
  }
 ],
 "metadata": {
  "kernelspec": {
   "display_name": "Python 3",
   "language": "python",
   "name": "python3"
  },
  "language_info": {
   "codemirror_mode": {
    "name": "ipython",
    "version": 3
   },
   "file_extension": ".py",
   "mimetype": "text/x-python",
   "name": "python",
   "nbconvert_exporter": "python",
   "pygments_lexer": "ipython3",
   "version": "3.7.3"
  }
 },
 "nbformat": 4,
 "nbformat_minor": 2
}
