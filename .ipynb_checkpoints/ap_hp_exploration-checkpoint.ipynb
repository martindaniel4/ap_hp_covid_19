{
 "cells": [
  {
   "cell_type": "markdown",
   "metadata": {},
   "source": [
    "### AP-HP Data exploration"
   ]
  },
  {
   "cell_type": "markdown",
   "metadata": {},
   "source": [
    "Dans ce notebook, nous analysons les données issues du GH Paris Saclay pour remonter de possibles erreurs ou incohérences dans les données."
   ]
  },
  {
   "cell_type": "code",
   "execution_count": 420,
   "metadata": {},
   "outputs": [],
   "source": [
    "import pandas as pd\n",
    "\n",
    "# deactivate warnings for chaining \n",
    "pd.options.mode.chained_assignment = None"
   ]
  },
  {
   "cell_type": "code",
   "execution_count": 421,
   "metadata": {},
   "outputs": [],
   "source": [
    "# Constants \n",
    "\n",
    "code_hospital = {\n",
    "  9: 'BRK',\n",
    "  10: 'BCT',\n",
    "  14: 'APR',\n",
    "  28: 'ABC',\n",
    "  68: 'RPC',\n",
    "  79: 'SPR',\n",
    "  96: 'PBR',\n",
    "}\n",
    "\n",
    "hospital_name = {\n",
    "  'BRK': 'BERCK',\n",
    "  'BCT': 'BICETRE',\n",
    "  'PBR': 'PAUL-BROUSSE',\n",
    "  'ABC': 'ANTOINE BECLERE',\n",
    "  'SPR': 'SAINTE PERINE',\n",
    "  'APR': 'AMBROISE PARE',\n",
    "  'RPC': 'RAYMOND POINCARE',\n",
    "}\n"
   ]
  },
  {
   "cell_type": "code",
   "execution_count": 422,
   "metadata": {},
   "outputs": [],
   "source": [
    "# import excel files \n",
    "\n",
    "orbis = pd.read_csv('data/orbis.csv', sep=';', encoding='cp1252')\n",
    "pacs = pd.read_excel('data/pacs.xlsx')\n",
    "glims = pd.read_excel('data/glims.xlsx')\n",
    "capacitaire = pd.read_excel('data/capacitaire.xlsx')\n",
    "sirius = pd.read_excel('data/sirius.xlsx')"
   ]
  },
  {
   "cell_type": "markdown",
   "metadata": {},
   "source": [
    "## Data Cleaning"
   ]
  },
  {
   "cell_type": "code",
   "execution_count": 423,
   "metadata": {},
   "outputs": [],
   "source": [
    "# Orbis - take only relevant columns, rename and extract chambre code\n",
    "\n",
    "orbis = orbis[['IPP', 'Chambre', 'U.Responsabilité']]\n",
    "orbis.rename(columns={'IPP':'ipp', 'Chambre':'chambre'}, \n",
    "             inplace=True)\n",
    "\n",
    "# Extract code chambre from chambre (e.g: C134 from C134 - CHAMBRE SEULE C134)\n",
    "orbis['code_chambre'] = orbis['chambre'].str.split(r\"\\ - \", expand=True)[0]\n",
    "\n",
    "# Extract hospital name from U.Responsabilité (e.g: ABC from 028081 - ABC OBSTETRIQUE (UF))\n",
    "orbis['hospital_name'] = orbis['U.Responsabilité'].str.split(r\"\\ - \", expand=True)[1].str[0:3]\n",
    "\n",
    "orbis = orbis[['ipp', 'code_chambre', 'hospital_name']]"
   ]
  },
  {
   "cell_type": "code",
   "execution_count": 424,
   "metadata": {},
   "outputs": [],
   "source": [
    "# Glims - rename columns, drop_duplicates, map is_pcr value to 1\n",
    "\n",
    "glims = glims[['ipp', 'is_pcr']]\n",
    "glims.drop_duplicates('ipp', inplace=True) #note: drop_duplicate only returns first value for each IPP\n",
    "glims['is_pcr'] = glims['is_pcr'].map({'Positif':1})"
   ]
  },
  {
   "cell_type": "code",
   "execution_count": 425,
   "metadata": {},
   "outputs": [],
   "source": [
    "# Pacs - select columns, drop_duplicates\n",
    "pacs = pacs[['ipp', 'radio']]\n",
    "pacs.drop_duplicates('ipp', inplace=True)"
   ]
  },
  {
   "cell_type": "code",
   "execution_count": 426,
   "metadata": {},
   "outputs": [],
   "source": [
    "# Capacitaire, rename is_covid column\n",
    "capacitaire.rename(columns={'Full COVID 1/0':'is_covid_dedicated',\n",
    "                            'hopital':'hospital_name',\n",
    "                            'service_covid':'covid_service'}, inplace=True)\n",
    "\n",
    "# Capacitaire, rename is_covid column\n",
    "capacitaire.drop_duplicates(['hospital_name', 'covid_service'], inplace=True)"
   ]
  },
  {
   "cell_type": "code",
   "execution_count": 427,
   "metadata": {},
   "outputs": [],
   "source": [
    "# Sirius, select columns, rename and filter \n",
    "sirius = sirius[['Hopital', \n",
    "                 'Intitulé Site Crise COVID', \n",
    "                 'Retenir ligne O/N',\n",
    "                 'Code Chambre']]\n",
    "\n",
    "sirius.rename(columns={'Hopital':'code_hospital',\n",
    "                       'Intitulé Site Crise COVID': 'covid_service',\n",
    "                       'Retenir ligne O/N':'filter_row',\n",
    "                       'Code Chambre':'code_chambre'},\n",
    "             inplace=True)\n",
    "\n",
    "sirius = sirius.query(\"filter_row=='OUI'\")\n",
    "\n",
    "sirius.drop('filter_row', axis=1, inplace=True)"
   ]
  },
  {
   "cell_type": "markdown",
   "metadata": {},
   "source": [
    "## Merge"
   ]
  },
  {
   "cell_type": "code",
   "execution_count": 428,
   "metadata": {},
   "outputs": [],
   "source": [
    "# merge Orbis with Glims\n",
    "\n",
    "orbis =\\\n",
    "    pd.merge(orbis,\n",
    "             glims,\n",
    "             on='ipp',\n",
    "             how='left')\n",
    "\n",
    "# merge with Pacs\n",
    "\n",
    "orbis =\\\n",
    "    pd.merge(orbis,\n",
    "             pacs,\n",
    "             on='ipp',\n",
    "             how='left')\n",
    "\n",
    "orbis.fillna(0, inplace=True)"
   ]
  },
  {
   "cell_type": "code",
   "execution_count": 429,
   "metadata": {},
   "outputs": [],
   "source": [
    "# Compute is_covid patient\n",
    "\n",
    "def is_covid(x):\n",
    "    if (x['is_pcr'] + x['radio']) > 0:\n",
    "        return 1\n",
    "    else:\n",
    "        return 0\n",
    "\n",
    "orbis['is_covid'] = orbis.apply(is_covid, axis=1)"
   ]
  },
  {
   "cell_type": "code",
   "execution_count": 430,
   "metadata": {},
   "outputs": [
    {
     "name": "stdout",
     "output_type": "stream",
     "text": [
      "il y a 98 patients sans Chambre dans Orbis dont 8 Covid positif:\n"
     ]
    },
    {
     "data": {
      "text/html": [
       "<div>\n",
       "<style scoped>\n",
       "    .dataframe tbody tr th:only-of-type {\n",
       "        vertical-align: middle;\n",
       "    }\n",
       "\n",
       "    .dataframe tbody tr th {\n",
       "        vertical-align: top;\n",
       "    }\n",
       "\n",
       "    .dataframe thead th {\n",
       "        text-align: right;\n",
       "    }\n",
       "</style>\n",
       "<table border=\"1\" class=\"dataframe\">\n",
       "  <thead>\n",
       "    <tr style=\"text-align: right;\">\n",
       "      <th></th>\n",
       "      <th>ipp</th>\n",
       "      <th>code_chambre</th>\n",
       "      <th>hospital_name</th>\n",
       "      <th>is_pcr</th>\n",
       "      <th>radio</th>\n",
       "      <th>is_covid</th>\n",
       "    </tr>\n",
       "  </thead>\n",
       "  <tbody>\n",
       "    <tr>\n",
       "      <th>118</th>\n",
       "      <td>8003232267</td>\n",
       "      <td></td>\n",
       "      <td>ABC</td>\n",
       "      <td>1.0</td>\n",
       "      <td>0.0</td>\n",
       "      <td>1</td>\n",
       "    </tr>\n",
       "    <tr>\n",
       "      <th>381</th>\n",
       "      <td>8014201282</td>\n",
       "      <td></td>\n",
       "      <td>APR</td>\n",
       "      <td>1.0</td>\n",
       "      <td>0.0</td>\n",
       "      <td>1</td>\n",
       "    </tr>\n",
       "    <tr>\n",
       "      <th>402</th>\n",
       "      <td>8001043127</td>\n",
       "      <td></td>\n",
       "      <td>APR</td>\n",
       "      <td>1.0</td>\n",
       "      <td>0.0</td>\n",
       "      <td>1</td>\n",
       "    </tr>\n",
       "    <tr>\n",
       "      <th>760</th>\n",
       "      <td>8014207211</td>\n",
       "      <td></td>\n",
       "      <td>BCT</td>\n",
       "      <td>1.0</td>\n",
       "      <td>0.0</td>\n",
       "      <td>1</td>\n",
       "    </tr>\n",
       "    <tr>\n",
       "      <th>780</th>\n",
       "      <td>8014213145</td>\n",
       "      <td></td>\n",
       "      <td>BCT</td>\n",
       "      <td>1.0</td>\n",
       "      <td>0.0</td>\n",
       "      <td>1</td>\n",
       "    </tr>\n",
       "    <tr>\n",
       "      <th>821</th>\n",
       "      <td>8008578325</td>\n",
       "      <td></td>\n",
       "      <td>BCT</td>\n",
       "      <td>1.0</td>\n",
       "      <td>0.0</td>\n",
       "      <td>1</td>\n",
       "    </tr>\n",
       "    <tr>\n",
       "      <th>1182</th>\n",
       "      <td>8014232794</td>\n",
       "      <td></td>\n",
       "      <td>BCT</td>\n",
       "      <td>1.0</td>\n",
       "      <td>0.0</td>\n",
       "      <td>1</td>\n",
       "    </tr>\n",
       "    <tr>\n",
       "      <th>1301</th>\n",
       "      <td>8008890155</td>\n",
       "      <td></td>\n",
       "      <td>BCT</td>\n",
       "      <td>1.0</td>\n",
       "      <td>0.0</td>\n",
       "      <td>1</td>\n",
       "    </tr>\n",
       "  </tbody>\n",
       "</table>\n",
       "</div>"
      ],
      "text/plain": [
       "             ipp code_chambre hospital_name  is_pcr  radio  is_covid\n",
       "118   8003232267                        ABC     1.0    0.0         1\n",
       "381   8014201282                        APR     1.0    0.0         1\n",
       "402   8001043127                        APR     1.0    0.0         1\n",
       "760   8014207211                        BCT     1.0    0.0         1\n",
       "780   8014213145                        BCT     1.0    0.0         1\n",
       "821   8008578325                        BCT     1.0    0.0         1\n",
       "1182  8014232794                        BCT     1.0    0.0         1\n",
       "1301  8008890155                        BCT     1.0    0.0         1"
      ]
     },
     "execution_count": 430,
     "metadata": {},
     "output_type": "execute_result"
    }
   ],
   "source": [
    "# How many Covid patients do not have a room associated with ? \n",
    "print('il y a {n_patients_no_room} patients sans'\n",
    "       ' Chambre dans Orbis dont {n_patients_no_room_covid} Covid positif:'\\\n",
    "      .format(n_patients_no_room = len(orbis.query(\"code_chambre == ''\")),\n",
    "              n_patients_no_room_covid = len(orbis.query(\"code_chambre == ''\").query(\"is_covid==1\")),\n",
    "             ))\n",
    "\n",
    "orbis.query(\"code_chambre == ''\").query(\"is_covid==1\")"
   ]
  },
  {
   "cell_type": "code",
   "execution_count": 431,
   "metadata": {},
   "outputs": [],
   "source": [
    "# add hospital_name to sirius \n",
    "\n",
    "sirius['hospital_name'] = sirius['code_hospital'].map(code_hospital)"
   ]
  },
  {
   "cell_type": "code",
   "execution_count": 432,
   "metadata": {},
   "outputs": [],
   "source": [
    "# merge Sirius and Orbis\n",
    "\n",
    "orbis =\\\n",
    "    pd.merge(orbis,\n",
    "             sirius,\n",
    "             how='left',\n",
    "             on=['hospital_name', \n",
    "                 'code_chambre'])"
   ]
  },
  {
   "cell_type": "code",
   "execution_count": 433,
   "metadata": {},
   "outputs": [],
   "source": [
    "# merge capacitaire \n",
    "\n",
    "orbis =\\\n",
    "    pd.merge(orbis,\n",
    "             capacitaire,\n",
    "             how='left',\n",
    "             on=['hospital_name', \n",
    "                 'covid_service'])"
   ]
  },
  {
   "cell_type": "code",
   "execution_count": 434,
   "metadata": {},
   "outputs": [],
   "source": [
    "df = orbis.groupby(['hospital_name', \n",
    "               'covid_service'])\\\n",
    "     .agg({'ipp': 'nunique',\n",
    "           'is_covid': 'sum',\n",
    "           'lits_ouverts': 'max',\n",
    "           'lits_ouverts_covid': 'max'})\\\n",
    "     .reset_index()\\\n",
    "     .fillna(0)"
   ]
  },
  {
   "cell_type": "code",
   "execution_count": 435,
   "metadata": {},
   "outputs": [
    {
     "data": {
      "text/html": [
       "<div>\n",
       "<style scoped>\n",
       "    .dataframe tbody tr th:only-of-type {\n",
       "        vertical-align: middle;\n",
       "    }\n",
       "\n",
       "    .dataframe tbody tr th {\n",
       "        vertical-align: top;\n",
       "    }\n",
       "\n",
       "    .dataframe thead th {\n",
       "        text-align: right;\n",
       "    }\n",
       "</style>\n",
       "<table border=\"1\" class=\"dataframe\">\n",
       "  <thead>\n",
       "    <tr style=\"text-align: right;\">\n",
       "      <th></th>\n",
       "      <th>hospital_name</th>\n",
       "      <th>covid_service</th>\n",
       "      <th>ipp</th>\n",
       "      <th>is_covid</th>\n",
       "      <th>lits_ouverts</th>\n",
       "      <th>lits_ouverts_covid</th>\n",
       "    </tr>\n",
       "  </thead>\n",
       "  <tbody>\n",
       "    <tr>\n",
       "      <th>0</th>\n",
       "      <td>ABC</td>\n",
       "      <td>CHIR DIG/GYNECO/ORTHO MUTUALISE</td>\n",
       "      <td>5</td>\n",
       "      <td>0</td>\n",
       "      <td>8</td>\n",
       "      <td>0.0</td>\n",
       "    </tr>\n",
       "    <tr>\n",
       "      <th>1</th>\n",
       "      <td>ABC</td>\n",
       "      <td>COVID 12 (REA/SC)</td>\n",
       "      <td>9</td>\n",
       "      <td>6</td>\n",
       "      <td>8</td>\n",
       "      <td>8.0</td>\n",
       "    </tr>\n",
       "    <tr>\n",
       "      <th>2</th>\n",
       "      <td>ABC</td>\n",
       "      <td>COVID 14</td>\n",
       "      <td>24</td>\n",
       "      <td>7</td>\n",
       "      <td>14</td>\n",
       "      <td>14.0</td>\n",
       "    </tr>\n",
       "    <tr>\n",
       "      <th>3</th>\n",
       "      <td>ABC</td>\n",
       "      <td>COVID 30</td>\n",
       "      <td>27</td>\n",
       "      <td>19</td>\n",
       "      <td>30</td>\n",
       "      <td>30.0</td>\n",
       "    </tr>\n",
       "    <tr>\n",
       "      <th>4</th>\n",
       "      <td>ABC</td>\n",
       "      <td>HGE</td>\n",
       "      <td>24</td>\n",
       "      <td>0</td>\n",
       "      <td>27</td>\n",
       "      <td>0.0</td>\n",
       "    </tr>\n",
       "  </tbody>\n",
       "</table>\n",
       "</div>"
      ],
      "text/plain": [
       "  hospital_name                    covid_service  ipp  is_covid lits_ouverts  \\\n",
       "0           ABC  CHIR DIG/GYNECO/ORTHO MUTUALISE    5         0            8   \n",
       "1           ABC                COVID 12 (REA/SC)    9         6            8   \n",
       "2           ABC                         COVID 14   24         7           14   \n",
       "3           ABC                         COVID 30   27        19           30   \n",
       "4           ABC                              HGE   24         0           27   \n",
       "\n",
       "   lits_ouverts_covid  \n",
       "0                 0.0  \n",
       "1                 8.0  \n",
       "2                14.0  \n",
       "3                30.0  \n",
       "4                 0.0  "
      ]
     },
     "execution_count": 435,
     "metadata": {},
     "output_type": "execute_result"
    }
   ],
   "source": [
    "df.head()"
   ]
  },
  {
   "cell_type": "code",
   "execution_count": null,
   "metadata": {},
   "outputs": [],
   "source": []
  }
 ],
 "metadata": {
  "kernelspec": {
   "display_name": "Python 3",
   "language": "python",
   "name": "python3"
  },
  "language_info": {
   "codemirror_mode": {
    "name": "ipython",
    "version": 3
   },
   "file_extension": ".py",
   "mimetype": "text/x-python",
   "name": "python",
   "nbconvert_exporter": "python",
   "pygments_lexer": "ipython3",
   "version": "3.7.3"
  }
 },
 "nbformat": 4,
 "nbformat_minor": 2
}
