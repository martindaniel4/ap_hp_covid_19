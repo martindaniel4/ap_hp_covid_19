{
 "cells": [
  {
   "cell_type": "markdown",
   "metadata": {},
   "source": [
    "### AP-HP Data exploration"
   ]
  },
  {
   "cell_type": "markdown",
   "metadata": {},
   "source": [
    "Dans ce notebook, nous analysons les données issues du GH Paris Saclay pour remonter de possibles erreurs ou incohérences dans les données."
   ]
  },
  {
   "cell_type": "code",
   "execution_count": 28,
   "metadata": {},
   "outputs": [],
   "source": [
    "import pandas as pd\n",
    "\n",
    "# deactivate warnings for chaining \n",
    "pd.options.mode.chained_assignment = None"
   ]
  },
  {
   "cell_type": "code",
   "execution_count": 29,
   "metadata": {},
   "outputs": [],
   "source": [
    "# Constants \n",
    "\n",
    "code_hospital = {\n",
    "  9: 'BRK',\n",
    "  10: 'BCT',\n",
    "  14: 'APR',\n",
    "  28: 'ABC',\n",
    "  68: 'RPC',\n",
    "  79: 'SPR',\n",
    "  96: 'PBR',\n",
    "}\n",
    "\n",
    "hospital_name = {\n",
    "  'BRK': 'BERCK',\n",
    "  'BCT': 'BICETRE',\n",
    "  'PBR': 'PAUL-BROUSSE',\n",
    "  'ABC': 'ANTOINE BECLERE',\n",
    "  'SPR': 'SAINTE PERINE',\n",
    "  'APR': 'AMBROISE PARE',\n",
    "  'RPC': 'RAYMOND POINCARE',\n",
    "}\n"
   ]
  },
  {
   "cell_type": "code",
   "execution_count": 30,
   "metadata": {},
   "outputs": [],
   "source": [
    "# import excel files \n",
    "\n",
    "orbis = pd.read_csv('data/orbis.csv', sep=';', encoding='cp1252')\n",
    "pacs = pd.read_excel('data/pacs.xlsx')\n",
    "glims = pd.read_excel('data/glims.xlsx')\n",
    "capacitaire = pd.read_excel('data/capacitaire.xlsx')\n",
    "sirius = pd.read_excel('data/sirius.xlsx')"
   ]
  },
  {
   "cell_type": "markdown",
   "metadata": {},
   "source": [
    "## Data Cleaning"
   ]
  },
  {
   "cell_type": "code",
   "execution_count": 31,
   "metadata": {},
   "outputs": [],
   "source": [
    "# Orbis - take only relevant columns, rename and extract chambre code\n",
    "\n",
    "orbis = orbis[['IPP', 'Chambre', 'U.Responsabilité']]\n",
    "orbis.rename(columns={'IPP':'ipp', 'Chambre':'room'}, \n",
    "             inplace=True)\n",
    "\n",
    "# Extract code chambre from chambre (e.g: C134 from C134 - CHAMBRE SEULE C134)\n",
    "orbis['code_room'] = orbis['room'].str.split(r\"\\ - \", expand=True)[0]\n",
    "\n",
    "# Extract hospital name from U.Responsabilité (e.g: ABC from 028081 - ABC OBSTETRIQUE (UF))\n",
    "orbis['hospital_name'] = orbis['U.Responsabilité'].str.split(r\"\\ - \", expand=True)[1].str[0:3]\n",
    "\n",
    "# From room, remove white spaces and uppercase\n",
    "orbis['room'] = orbis['room'].str.replace(' ', '').str.upper()\n",
    "\n",
    "orbis = orbis[['ipp', 'code_room', 'room', 'hospital_name']]"
   ]
  },
  {
   "cell_type": "code",
   "execution_count": 32,
   "metadata": {},
   "outputs": [],
   "source": [
    "# Glims - rename columns, drop_duplicates, map is_pcr value to 1\n",
    "\n",
    "glims = glims[['ipp', 'is_pcr']]\n",
    "glims.drop_duplicates('ipp', inplace=True) #note: drop_duplicate only returns first value for each IPP\n",
    "glims['is_pcr'] = glims['is_pcr'].map({'Positif':1})"
   ]
  },
  {
   "cell_type": "code",
   "execution_count": 33,
   "metadata": {},
   "outputs": [],
   "source": [
    "# Pacs - select columns, drop_duplicates\n",
    "pacs = pacs[['ipp', 'radio']]\n",
    "pacs.drop_duplicates('ipp', inplace=True)"
   ]
  },
  {
   "cell_type": "code",
   "execution_count": 34,
   "metadata": {},
   "outputs": [],
   "source": [
    "# Capacitaire, rename is_covid column\n",
    "capacitaire.rename(columns={'Full COVID 1/0':'is_covid_dedicated',\n",
    "                            'hopital':'hospital_name',\n",
    "                            'service_covid':'covid_service'}, inplace=True)\n",
    "\n",
    "# Capacitaire, rename is_covid column\n",
    "capacitaire.drop_duplicates(['hospital_name', 'covid_service'], inplace=True)"
   ]
  },
  {
   "cell_type": "code",
   "execution_count": 35,
   "metadata": {},
   "outputs": [],
   "source": [
    "# Sirius, select columns, rename and filter \n",
    "sirius = sirius[['Hopital', \n",
    "                 'Intitulé Site Crise COVID', \n",
    "                 'Retenir ligne O/N',\n",
    "                 'Libelle Chambre',\n",
    "                 'Code Chambre']]\n",
    "\n",
    "sirius.rename(columns={'Hopital':'code_hospital',\n",
    "                       'Intitulé Site Crise COVID': 'covid_service',\n",
    "                       'Retenir ligne O/N':'filter_row',\n",
    "                       'Code Chambre':'code_room',\n",
    "                       'Libelle Chambre':'label_room'},\n",
    "             inplace=True)\n",
    "\n",
    "# only filter row with OUI \n",
    "sirius = sirius.query(\"filter_row=='OUI'\")\n",
    "\n",
    "# remove white spaces from label room, uppercase \n",
    "sirius['label_room'] = sirius['label_room'].astype(str)\n",
    "sirius['label_room'] = sirius['label_room'].str.replace(' ', '').str.upper()\n",
    "\n",
    "# remove white spaces from code room, uppercase \n",
    "sirius['code_room'] = sirius['code_room'].astype(str)\n",
    "sirius['code_room'] = sirius['code_room'].str.replace(' ', '').str.upper()\n",
    "\n",
    "#create room as concatenate of code_room and label_room\n",
    "\n",
    "sirius['room'] = sirius[['code_room', 'label_room']].agg('-'.join, axis=1)\n",
    "\n",
    "sirius.drop('filter_row', axis=1, inplace=True)"
   ]
  },
  {
   "cell_type": "markdown",
   "metadata": {},
   "source": [
    "## Merge"
   ]
  },
  {
   "cell_type": "code",
   "execution_count": 36,
   "metadata": {},
   "outputs": [],
   "source": [
    "# merge Orbis with Glims\n",
    "\n",
    "orbis =\\\n",
    "    pd.merge(orbis,\n",
    "             glims,\n",
    "             on='ipp',\n",
    "             how='left')\n",
    "\n",
    "# merge with Pacs\n",
    "\n",
    "orbis =\\\n",
    "    pd.merge(orbis,\n",
    "             pacs,\n",
    "             on='ipp',\n",
    "             how='left')\n",
    "\n",
    "orbis.fillna(0, inplace=True)"
   ]
  },
  {
   "cell_type": "code",
   "execution_count": 37,
   "metadata": {},
   "outputs": [],
   "source": [
    "# Compute is_covid patient\n",
    "\n",
    "def is_covid(x):\n",
    "    if (x['is_pcr'] + x['radio']) > 0:\n",
    "        return 1\n",
    "    else:\n",
    "        return 0\n",
    "\n",
    "orbis['is_covid'] = orbis.apply(is_covid, axis=1)"
   ]
  },
  {
   "cell_type": "code",
   "execution_count": 38,
   "metadata": {},
   "outputs": [
    {
     "name": "stdout",
     "output_type": "stream",
     "text": [
      "il y a 98 patients sans Chambre dans Orbis dont 8 Covid positif:\n"
     ]
    },
    {
     "data": {
      "text/html": [
       "<div>\n",
       "<style scoped>\n",
       "    .dataframe tbody tr th:only-of-type {\n",
       "        vertical-align: middle;\n",
       "    }\n",
       "\n",
       "    .dataframe tbody tr th {\n",
       "        vertical-align: top;\n",
       "    }\n",
       "\n",
       "    .dataframe thead th {\n",
       "        text-align: right;\n",
       "    }\n",
       "</style>\n",
       "<table border=\"1\" class=\"dataframe\">\n",
       "  <thead>\n",
       "    <tr style=\"text-align: right;\">\n",
       "      <th></th>\n",
       "      <th>ipp</th>\n",
       "      <th>code_room</th>\n",
       "      <th>room</th>\n",
       "      <th>hospital_name</th>\n",
       "      <th>is_pcr</th>\n",
       "      <th>radio</th>\n",
       "      <th>is_covid</th>\n",
       "    </tr>\n",
       "  </thead>\n",
       "  <tbody>\n",
       "    <tr>\n",
       "      <th>118</th>\n",
       "      <td>8003232267</td>\n",
       "      <td></td>\n",
       "      <td>-</td>\n",
       "      <td>ABC</td>\n",
       "      <td>1.0</td>\n",
       "      <td>0.0</td>\n",
       "      <td>1</td>\n",
       "    </tr>\n",
       "    <tr>\n",
       "      <th>381</th>\n",
       "      <td>8014201282</td>\n",
       "      <td></td>\n",
       "      <td>-</td>\n",
       "      <td>APR</td>\n",
       "      <td>1.0</td>\n",
       "      <td>0.0</td>\n",
       "      <td>1</td>\n",
       "    </tr>\n",
       "    <tr>\n",
       "      <th>402</th>\n",
       "      <td>8001043127</td>\n",
       "      <td></td>\n",
       "      <td>-</td>\n",
       "      <td>APR</td>\n",
       "      <td>1.0</td>\n",
       "      <td>0.0</td>\n",
       "      <td>1</td>\n",
       "    </tr>\n",
       "    <tr>\n",
       "      <th>760</th>\n",
       "      <td>8014207211</td>\n",
       "      <td></td>\n",
       "      <td>-</td>\n",
       "      <td>BCT</td>\n",
       "      <td>1.0</td>\n",
       "      <td>0.0</td>\n",
       "      <td>1</td>\n",
       "    </tr>\n",
       "    <tr>\n",
       "      <th>780</th>\n",
       "      <td>8014213145</td>\n",
       "      <td></td>\n",
       "      <td>-</td>\n",
       "      <td>BCT</td>\n",
       "      <td>1.0</td>\n",
       "      <td>0.0</td>\n",
       "      <td>1</td>\n",
       "    </tr>\n",
       "    <tr>\n",
       "      <th>821</th>\n",
       "      <td>8008578325</td>\n",
       "      <td></td>\n",
       "      <td>-</td>\n",
       "      <td>BCT</td>\n",
       "      <td>1.0</td>\n",
       "      <td>0.0</td>\n",
       "      <td>1</td>\n",
       "    </tr>\n",
       "    <tr>\n",
       "      <th>1182</th>\n",
       "      <td>8014232794</td>\n",
       "      <td></td>\n",
       "      <td>-</td>\n",
       "      <td>BCT</td>\n",
       "      <td>1.0</td>\n",
       "      <td>0.0</td>\n",
       "      <td>1</td>\n",
       "    </tr>\n",
       "    <tr>\n",
       "      <th>1301</th>\n",
       "      <td>8008890155</td>\n",
       "      <td></td>\n",
       "      <td>-</td>\n",
       "      <td>BCT</td>\n",
       "      <td>1.0</td>\n",
       "      <td>0.0</td>\n",
       "      <td>1</td>\n",
       "    </tr>\n",
       "  </tbody>\n",
       "</table>\n",
       "</div>"
      ],
      "text/plain": [
       "             ipp code_room room hospital_name  is_pcr  radio  is_covid\n",
       "118   8003232267              -           ABC     1.0    0.0         1\n",
       "381   8014201282              -           APR     1.0    0.0         1\n",
       "402   8001043127              -           APR     1.0    0.0         1\n",
       "760   8014207211              -           BCT     1.0    0.0         1\n",
       "780   8014213145              -           BCT     1.0    0.0         1\n",
       "821   8008578325              -           BCT     1.0    0.0         1\n",
       "1182  8014232794              -           BCT     1.0    0.0         1\n",
       "1301  8008890155              -           BCT     1.0    0.0         1"
      ]
     },
     "execution_count": 38,
     "metadata": {},
     "output_type": "execute_result"
    }
   ],
   "source": [
    "# How many Covid patients do not have a room associated with ? \n",
    "print('il y a {n_patients_no_room} patients sans'\n",
    "       ' Chambre dans Orbis dont {n_patients_no_room_covid} Covid positif:'\\\n",
    "      .format(n_patients_no_room = len(orbis.query(\"code_room == ''\")),\n",
    "              n_patients_no_room_covid = len(orbis.query(\"code_room == ''\").query(\"is_covid==1\")),\n",
    "             ))\n",
    "\n",
    "orbis.query(\"code_room == ''\").query(\"is_covid==1\")"
   ]
  },
  {
   "cell_type": "code",
   "execution_count": 39,
   "metadata": {},
   "outputs": [],
   "source": [
    "# add hospital_name to sirius \n",
    "\n",
    "sirius['hospital_name'] = sirius['code_hospital'].map(code_hospital)"
   ]
  },
  {
   "cell_type": "code",
   "execution_count": 40,
   "metadata": {},
   "outputs": [],
   "source": [
    "# merge Sirius and Orbis\n",
    "\n",
    "orbis =\\\n",
    "    pd.merge(orbis,\n",
    "             sirius,\n",
    "             how='left',\n",
    "             on=['hospital_name', \n",
    "                 'room'])"
   ]
  },
  {
   "cell_type": "markdown",
   "metadata": {},
   "source": [
    "### Discrepancies between Sirius and Orbis room matching"
   ]
  },
  {
   "cell_type": "markdown",
   "metadata": {},
   "source": [
    "After a left merge on the room matching key, we end up with rooms that do not match in Sirius. "
   ]
  },
  {
   "cell_type": "code",
   "execution_count": 41,
   "metadata": {},
   "outputs": [
    {
     "name": "stdout",
     "output_type": "stream",
     "text": [
      "il y a 195 chambres Orbis qu'on ne retrouve pas dans Sirius\n"
     ]
    }
   ],
   "source": [
    "print('il y a {n_rooms_missing} chambres Orbis'\n",
    "      ' qu\\'on ne retrouve pas dans Sirius'\\\n",
    "      .format(n_rooms_missing=len(orbis.query(\"code_hospital.isnull()\"))))"
   ]
  },
  {
   "cell_type": "markdown",
   "metadata": {},
   "source": [
    "Why is it the case? Let's look at the difference in label in the two files: "
   ]
  },
  {
   "cell_type": "code",
   "execution_count": 42,
   "metadata": {},
   "outputs": [],
   "source": [
    "# create a df with the rooms that did not find a match in Sirius\n",
    "\n",
    "room_gap = orbis[orbis['covid_service'].isna()][['code_room_x', 'room', 'hospital_name']]\n",
    "room_gap.rename(columns={'code_room_x':'code_room'}, \n",
    "                inplace=True)"
   ]
  },
  {
   "cell_type": "markdown",
   "metadata": {},
   "source": [
    "A first reason is that the code_room in Orbis can be empty. This can be patients that have not yet a room allocated or newborns that sleep with their mama. How many are those? "
   ]
  },
  {
   "cell_type": "code",
   "execution_count": 43,
   "metadata": {},
   "outputs": [
    {
     "name": "stdout",
     "output_type": "stream",
     "text": [
      "il y a 98 patients dans Orbis sans chambre. Reste a expliquer 97 patients\n"
     ]
    }
   ],
   "source": [
    "n_patients_with_no_rooms_in_orbis = len(room_gap.query(\"code_room == ''\"))\n",
    "n_patients_remaining = len(orbis.query(\"code_hospital.isnull()\")) - n_patients_with_no_rooms_in_orbis\n",
    "\n",
    "print('il y a {n_patients_with_no_rooms_in_orbis} patients dans Orbis'\n",
    "      ' sans chambre. Reste a expliquer {n_patients_remaining} patients'\\\n",
    "      .format(n_patients_with_no_rooms_in_orbis=n_patients_with_no_rooms_in_orbis,\n",
    "              n_patients_remaining=n_patients_remaining))"
   ]
  },
  {
   "cell_type": "code",
   "execution_count": 44,
   "metadata": {},
   "outputs": [],
   "source": [
    "# merge room_gap with sirius only on those that have a code_room in Sirius\n",
    "\n",
    "df_gap = pd.merge(room_gap.query(\"code_room != ''\"),\n",
    "         sirius,\n",
    "         on=['code_room', 'hospital_name'],\n",
    "         how='left')"
   ]
  },
  {
   "cell_type": "markdown",
   "metadata": {},
   "source": [
    "Another reason is that the code_room does not match. This can be because when imported, sirius Excel file cast columns and consider some rows as string or integer. See below an example for code_room '04' in Orbis and '4' in Sirius: "
   ]
  },
  {
   "cell_type": "code",
   "execution_count": 45,
   "metadata": {},
   "outputs": [
    {
     "data": {
      "text/html": [
       "<div>\n",
       "<style scoped>\n",
       "    .dataframe tbody tr th:only-of-type {\n",
       "        vertical-align: middle;\n",
       "    }\n",
       "\n",
       "    .dataframe tbody tr th {\n",
       "        vertical-align: top;\n",
       "    }\n",
       "\n",
       "    .dataframe thead th {\n",
       "        text-align: right;\n",
       "    }\n",
       "</style>\n",
       "<table border=\"1\" class=\"dataframe\">\n",
       "  <thead>\n",
       "    <tr style=\"text-align: right;\">\n",
       "      <th></th>\n",
       "      <th>code_room</th>\n",
       "      <th>room_x</th>\n",
       "      <th>hospital_name</th>\n",
       "      <th>code_hospital</th>\n",
       "      <th>covid_service</th>\n",
       "      <th>label_room</th>\n",
       "      <th>room_y</th>\n",
       "    </tr>\n",
       "  </thead>\n",
       "  <tbody>\n",
       "    <tr>\n",
       "      <th>0</th>\n",
       "      <td>04</td>\n",
       "      <td>04-CHAMBRE04USR</td>\n",
       "      <td>BCT</td>\n",
       "      <td>NaN</td>\n",
       "      <td>NaN</td>\n",
       "      <td>NaN</td>\n",
       "      <td>NaN</td>\n",
       "    </tr>\n",
       "    <tr>\n",
       "      <th>2</th>\n",
       "      <td>04</td>\n",
       "      <td>04-CHAMBRE04USR</td>\n",
       "      <td>BCT</td>\n",
       "      <td>NaN</td>\n",
       "      <td>NaN</td>\n",
       "      <td>NaN</td>\n",
       "      <td>NaN</td>\n",
       "    </tr>\n",
       "  </tbody>\n",
       "</table>\n",
       "</div>"
      ],
      "text/plain": [
       "  code_room           room_x hospital_name  code_hospital covid_service  \\\n",
       "0        04  04-CHAMBRE04USR           BCT            NaN           NaN   \n",
       "2        04  04-CHAMBRE04USR           BCT            NaN           NaN   \n",
       "\n",
       "  label_room room_y  \n",
       "0        NaN    NaN  \n",
       "2        NaN    NaN  "
      ]
     },
     "execution_count": 45,
     "metadata": {},
     "output_type": "execute_result"
    }
   ],
   "source": [
    "df_gap.query(\"code_room=='04'\")"
   ]
  },
  {
   "cell_type": "code",
   "execution_count": 46,
   "metadata": {},
   "outputs": [
    {
     "data": {
      "text/html": [
       "<div>\n",
       "<style scoped>\n",
       "    .dataframe tbody tr th:only-of-type {\n",
       "        vertical-align: middle;\n",
       "    }\n",
       "\n",
       "    .dataframe tbody tr th {\n",
       "        vertical-align: top;\n",
       "    }\n",
       "\n",
       "    .dataframe thead th {\n",
       "        text-align: right;\n",
       "    }\n",
       "</style>\n",
       "<table border=\"1\" class=\"dataframe\">\n",
       "  <thead>\n",
       "    <tr style=\"text-align: right;\">\n",
       "      <th></th>\n",
       "      <th>code_hospital</th>\n",
       "      <th>covid_service</th>\n",
       "      <th>label_room</th>\n",
       "      <th>code_room</th>\n",
       "      <th>room</th>\n",
       "      <th>hospital_name</th>\n",
       "    </tr>\n",
       "  </thead>\n",
       "  <tbody>\n",
       "    <tr>\n",
       "      <th>3148</th>\n",
       "      <td>10</td>\n",
       "      <td>ZSTCD ADULTES</td>\n",
       "      <td>CHAMBRESEULE04</td>\n",
       "      <td>4</td>\n",
       "      <td>4-CHAMBRESEULE04</td>\n",
       "      <td>BCT</td>\n",
       "    </tr>\n",
       "    <tr>\n",
       "      <th>3953</th>\n",
       "      <td>10</td>\n",
       "      <td>USR</td>\n",
       "      <td>CHAMBRE04USR</td>\n",
       "      <td>4</td>\n",
       "      <td>4-CHAMBRE04USR</td>\n",
       "      <td>BCT</td>\n",
       "    </tr>\n",
       "  </tbody>\n",
       "</table>\n",
       "</div>"
      ],
      "text/plain": [
       "      code_hospital  covid_service      label_room code_room  \\\n",
       "3148             10  ZSTCD ADULTES  CHAMBRESEULE04         4   \n",
       "3953             10            USR    CHAMBRE04USR         4   \n",
       "\n",
       "                  room hospital_name  \n",
       "3148  4-CHAMBRESEULE04           BCT  \n",
       "3953    4-CHAMBRE04USR           BCT  "
      ]
     },
     "execution_count": 46,
     "metadata": {},
     "output_type": "execute_result"
    }
   ],
   "source": [
    "sirius.query(\"code_room=='4'\").query(\"hospital_name=='BCT'\")"
   ]
  },
  {
   "cell_type": "markdown",
   "metadata": {},
   "source": [
    "Note that it is not as straightforward as adding one trailing 0. Some room code have two trailing zeros for instance: "
   ]
  },
  {
   "cell_type": "code",
   "execution_count": 47,
   "metadata": {},
   "outputs": [
    {
     "data": {
      "text/html": [
       "<div>\n",
       "<style scoped>\n",
       "    .dataframe tbody tr th:only-of-type {\n",
       "        vertical-align: middle;\n",
       "    }\n",
       "\n",
       "    .dataframe tbody tr th {\n",
       "        vertical-align: top;\n",
       "    }\n",
       "\n",
       "    .dataframe thead th {\n",
       "        text-align: right;\n",
       "    }\n",
       "</style>\n",
       "<table border=\"1\" class=\"dataframe\">\n",
       "  <thead>\n",
       "    <tr style=\"text-align: right;\">\n",
       "      <th></th>\n",
       "      <th>code_room</th>\n",
       "      <th>room_x</th>\n",
       "      <th>hospital_name</th>\n",
       "      <th>code_hospital</th>\n",
       "      <th>covid_service</th>\n",
       "      <th>label_room</th>\n",
       "      <th>room_y</th>\n",
       "    </tr>\n",
       "  </thead>\n",
       "  <tbody>\n",
       "    <tr>\n",
       "      <th>101</th>\n",
       "      <td>003</td>\n",
       "      <td>003-SALLE3</td>\n",
       "      <td>RPC</td>\n",
       "      <td>NaN</td>\n",
       "      <td>NaN</td>\n",
       "      <td>NaN</td>\n",
       "      <td>NaN</td>\n",
       "    </tr>\n",
       "  </tbody>\n",
       "</table>\n",
       "</div>"
      ],
      "text/plain": [
       "    code_room      room_x hospital_name  code_hospital covid_service  \\\n",
       "101       003  003-SALLE3           RPC            NaN           NaN   \n",
       "\n",
       "    label_room room_y  \n",
       "101        NaN    NaN  "
      ]
     },
     "execution_count": 47,
     "metadata": {},
     "output_type": "execute_result"
    }
   ],
   "source": [
    "df_gap.query(\"code_room=='003'\")"
   ]
  },
  {
   "cell_type": "code",
   "execution_count": 48,
   "metadata": {},
   "outputs": [
    {
     "data": {
      "text/html": [
       "<div>\n",
       "<style scoped>\n",
       "    .dataframe tbody tr th:only-of-type {\n",
       "        vertical-align: middle;\n",
       "    }\n",
       "\n",
       "    .dataframe tbody tr th {\n",
       "        vertical-align: top;\n",
       "    }\n",
       "\n",
       "    .dataframe thead th {\n",
       "        text-align: right;\n",
       "    }\n",
       "</style>\n",
       "<table border=\"1\" class=\"dataframe\">\n",
       "  <thead>\n",
       "    <tr style=\"text-align: right;\">\n",
       "      <th></th>\n",
       "      <th>code_hospital</th>\n",
       "      <th>covid_service</th>\n",
       "      <th>label_room</th>\n",
       "      <th>code_room</th>\n",
       "      <th>room</th>\n",
       "      <th>hospital_name</th>\n",
       "    </tr>\n",
       "  </thead>\n",
       "  <tbody>\n",
       "    <tr>\n",
       "      <th>1402</th>\n",
       "      <td>68</td>\n",
       "      <td>WIDAL 1 S2 - COVID +</td>\n",
       "      <td>SALLE3</td>\n",
       "      <td>3</td>\n",
       "      <td>3-SALLE3</td>\n",
       "      <td>RPC</td>\n",
       "    </tr>\n",
       "  </tbody>\n",
       "</table>\n",
       "</div>"
      ],
      "text/plain": [
       "      code_hospital          covid_service label_room code_room      room  \\\n",
       "1402             68  WIDAL 1 S2 - COVID +      SALLE3         3  3-SALLE3   \n",
       "\n",
       "     hospital_name  \n",
       "1402           RPC  "
      ]
     },
     "execution_count": 48,
     "metadata": {},
     "output_type": "execute_result"
    }
   ],
   "source": [
    "sirius.query(\"code_room=='3'\").query(\"hospital_name=='RPC'\")"
   ]
  },
  {
   "cell_type": "markdown",
   "metadata": {},
   "source": [
    "Other does not seem to match at all: "
   ]
  },
  {
   "cell_type": "code",
   "execution_count": 49,
   "metadata": {},
   "outputs": [
    {
     "data": {
      "text/html": [
       "<div>\n",
       "<style scoped>\n",
       "    .dataframe tbody tr th:only-of-type {\n",
       "        vertical-align: middle;\n",
       "    }\n",
       "\n",
       "    .dataframe tbody tr th {\n",
       "        vertical-align: top;\n",
       "    }\n",
       "\n",
       "    .dataframe thead th {\n",
       "        text-align: right;\n",
       "    }\n",
       "</style>\n",
       "<table border=\"1\" class=\"dataframe\">\n",
       "  <thead>\n",
       "    <tr style=\"text-align: right;\">\n",
       "      <th></th>\n",
       "      <th>code_room</th>\n",
       "      <th>room_x</th>\n",
       "      <th>hospital_name</th>\n",
       "      <th>code_hospital</th>\n",
       "      <th>covid_service</th>\n",
       "      <th>label_room</th>\n",
       "      <th>room_y</th>\n",
       "    </tr>\n",
       "  </thead>\n",
       "  <tbody>\n",
       "    <tr>\n",
       "      <th>35</th>\n",
       "      <td>L205</td>\n",
       "      <td>L205-CHAMBRE5LAENNEC0205</td>\n",
       "      <td>BCT</td>\n",
       "      <td>NaN</td>\n",
       "      <td>NaN</td>\n",
       "      <td>NaN</td>\n",
       "      <td>NaN</td>\n",
       "    </tr>\n",
       "  </tbody>\n",
       "</table>\n",
       "</div>"
      ],
      "text/plain": [
       "   code_room                    room_x hospital_name  code_hospital  \\\n",
       "35      L205  L205-CHAMBRE5LAENNEC0205           BCT            NaN   \n",
       "\n",
       "   covid_service label_room room_y  \n",
       "35           NaN        NaN    NaN  "
      ]
     },
     "execution_count": 49,
     "metadata": {},
     "output_type": "execute_result"
    }
   ],
   "source": [
    "df_gap.query(\"code_room == 'L205'\")"
   ]
  },
  {
   "cell_type": "code",
   "execution_count": 50,
   "metadata": {},
   "outputs": [
    {
     "data": {
      "text/html": [
       "<div>\n",
       "<style scoped>\n",
       "    .dataframe tbody tr th:only-of-type {\n",
       "        vertical-align: middle;\n",
       "    }\n",
       "\n",
       "    .dataframe tbody tr th {\n",
       "        vertical-align: top;\n",
       "    }\n",
       "\n",
       "    .dataframe thead th {\n",
       "        text-align: right;\n",
       "    }\n",
       "</style>\n",
       "<table border=\"1\" class=\"dataframe\">\n",
       "  <thead>\n",
       "    <tr style=\"text-align: right;\">\n",
       "      <th></th>\n",
       "      <th>code_hospital</th>\n",
       "      <th>covid_service</th>\n",
       "      <th>label_room</th>\n",
       "      <th>code_room</th>\n",
       "      <th>room</th>\n",
       "      <th>hospital_name</th>\n",
       "    </tr>\n",
       "  </thead>\n",
       "  <tbody>\n",
       "    <tr>\n",
       "      <th>1412</th>\n",
       "      <td>68</td>\n",
       "      <td>WIDAL 2 S1 - COVID +</td>\n",
       "      <td>CHAMBRE205</td>\n",
       "      <td>205</td>\n",
       "      <td>205-CHAMBRE205</td>\n",
       "      <td>RPC</td>\n",
       "    </tr>\n",
       "  </tbody>\n",
       "</table>\n",
       "</div>"
      ],
      "text/plain": [
       "      code_hospital          covid_service  label_room code_room  \\\n",
       "1412             68  WIDAL 2 S1 - COVID +   CHAMBRE205       205   \n",
       "\n",
       "                room hospital_name  \n",
       "1412  205-CHAMBRE205           RPC  "
      ]
     },
     "execution_count": 50,
     "metadata": {},
     "output_type": "execute_result"
    }
   ],
   "source": [
    "sirius.query(\"hospital_name == 'RPC'\").query('label_room.str.contains(\"205\")')"
   ]
  },
  {
   "cell_type": "code",
   "execution_count": 51,
   "metadata": {},
   "outputs": [
    {
     "name": "stdout",
     "output_type": "stream",
     "text": [
      "il y a 45 patients dont le code chambre Sirius ne correspond pas dans Orbis. Reste a expliquer 52 patients\n"
     ]
    }
   ],
   "source": [
    "n_patients_with_no_code_room_matching_in_sirius =\\\n",
    "    len(df_gap.drop_duplicates(['room_x', \n",
    "                                'hospital_name']).query('code_hospital.isnull()'))\n",
    "n_patients_remaining = n_patients_remaining - n_patients_with_no_code_room_matching_in_sirius\n",
    "\n",
    "print('il y a {n_patients_with_no_code_room_matching_in_sirius} patients dont le code chambre'\n",
    "      ' Sirius ne correspond pas dans Orbis. Reste a expliquer {n_patients_remaining} patients'\\\n",
    "      .format(n_patients_with_no_code_room_matching_in_sirius=n_patients_with_no_code_room_matching_in_sirius,\n",
    "              n_patients_remaining=n_patients_remaining))"
   ]
  },
  {
   "cell_type": "markdown",
   "metadata": {},
   "source": [
    "Finally, we have room labels that do not match because strings are different. A few examples: \n",
    "\n",
    "- There is a space at the end \"ABC\" vs \"ABC \"\n",
    "- Lower case vs Upper case \"CHAMBRE 5 NEO NATALE\" vs \"Chambre 5 Neo Natale\"\n",
    "- Characters used 321 - \"ferm√©\" vs \"ferm?\""
   ]
  },
  {
   "cell_type": "code",
   "execution_count": 54,
   "metadata": {},
   "outputs": [],
   "source": [
    "df_gap.query(\"code_hospital.notnull()\")[['room_x', \n",
    "                                         'room_y']]\\\n",
    "      .rename(columns={'room_x':'room_orbis',\n",
    "                       'room_y':'room_sirius'})"
   ]
  },
  {
   "cell_type": "code",
   "execution_count": 53,
   "metadata": {},
   "outputs": [
    {
     "name": "stdout",
     "output_type": "stream",
     "text": [
      "il y a 40 patients avec une difference de label . Reste a expliquer 12 patients\n"
     ]
    }
   ],
   "source": [
    "n_patients_with_label_diff =\\\n",
    "    len(df_gap.query(\"code_hospital.notnull()\")\\\n",
    "              .drop_duplicates(['room_x', \n",
    "                                'hospital_name']))\n",
    "n_patients_remaining = n_patients_remaining - n_patients_with_label_diff\n",
    "\n",
    "print('il y a {n_patients_with_label_diff} patients avec une difference de label'\n",
    "      ' . Reste a expliquer {n_patients_remaining} patients'\\\n",
    "      .format(n_patients_with_label_diff=n_patients_with_label_diff,\n",
    "              n_patients_remaining=n_patients_remaining))"
   ]
  },
  {
   "cell_type": "markdown",
   "metadata": {},
   "source": [
    "## Capacitaire"
   ]
  },
  {
   "cell_type": "code",
   "execution_count": 55,
   "metadata": {},
   "outputs": [],
   "source": [
    "# merge capacitaire \n",
    "\n",
    "orbis =\\\n",
    "    pd.merge(orbis,\n",
    "             capacitaire,\n",
    "             how='left',\n",
    "             on=['hospital_name', \n",
    "                 'covid_service'])"
   ]
  },
  {
   "cell_type": "code",
   "execution_count": 56,
   "metadata": {},
   "outputs": [],
   "source": [
    "df = orbis.groupby(['hospital_name', \n",
    "               'covid_service'])\\\n",
    "     .agg({'ipp': 'nunique',\n",
    "           'is_covid': 'sum',\n",
    "           'lits_ouverts': 'max',\n",
    "           'lits_ouverts_covid': 'max'})\\\n",
    "     .reset_index()\\\n",
    "     .fillna(0)"
   ]
  },
  {
   "cell_type": "code",
   "execution_count": 58,
   "metadata": {},
   "outputs": [
    {
     "data": {
      "text/html": [
       "<div>\n",
       "<style scoped>\n",
       "    .dataframe tbody tr th:only-of-type {\n",
       "        vertical-align: middle;\n",
       "    }\n",
       "\n",
       "    .dataframe tbody tr th {\n",
       "        vertical-align: top;\n",
       "    }\n",
       "\n",
       "    .dataframe thead th {\n",
       "        text-align: right;\n",
       "    }\n",
       "</style>\n",
       "<table border=\"1\" class=\"dataframe\">\n",
       "  <thead>\n",
       "    <tr style=\"text-align: right;\">\n",
       "      <th></th>\n",
       "      <th>hospital_name</th>\n",
       "      <th>covid_service</th>\n",
       "      <th>ipp</th>\n",
       "      <th>is_covid</th>\n",
       "      <th>lits_ouverts</th>\n",
       "      <th>lits_ouverts_covid</th>\n",
       "    </tr>\n",
       "  </thead>\n",
       "  <tbody>\n",
       "    <tr>\n",
       "      <th>0</th>\n",
       "      <td>ABC</td>\n",
       "      <td>CHIR DIG/GYNECO/ORTHO MUTUALISE</td>\n",
       "      <td>5</td>\n",
       "      <td>0</td>\n",
       "      <td>8.0</td>\n",
       "      <td>0.0</td>\n",
       "    </tr>\n",
       "    <tr>\n",
       "      <th>1</th>\n",
       "      <td>ABC</td>\n",
       "      <td>COVID 12 (REA/SC)</td>\n",
       "      <td>9</td>\n",
       "      <td>6</td>\n",
       "      <td>8.0</td>\n",
       "      <td>8.0</td>\n",
       "    </tr>\n",
       "    <tr>\n",
       "      <th>2</th>\n",
       "      <td>ABC</td>\n",
       "      <td>COVID 14</td>\n",
       "      <td>11</td>\n",
       "      <td>7</td>\n",
       "      <td>14.0</td>\n",
       "      <td>14.0</td>\n",
       "    </tr>\n",
       "    <tr>\n",
       "      <th>3</th>\n",
       "      <td>ABC</td>\n",
       "      <td>COVID 30</td>\n",
       "      <td>27</td>\n",
       "      <td>19</td>\n",
       "      <td>30.0</td>\n",
       "      <td>30.0</td>\n",
       "    </tr>\n",
       "    <tr>\n",
       "      <th>4</th>\n",
       "      <td>ABC</td>\n",
       "      <td>HGE</td>\n",
       "      <td>24</td>\n",
       "      <td>0</td>\n",
       "      <td>27.0</td>\n",
       "      <td>0.0</td>\n",
       "    </tr>\n",
       "    <tr>\n",
       "      <th>...</th>\n",
       "      <td>...</td>\n",
       "      <td>...</td>\n",
       "      <td>...</td>\n",
       "      <td>...</td>\n",
       "      <td>...</td>\n",
       "      <td>...</td>\n",
       "    </tr>\n",
       "    <tr>\n",
       "      <th>107</th>\n",
       "      <td>SPR</td>\n",
       "      <td>UGA DEBUSSY - COVID +</td>\n",
       "      <td>21</td>\n",
       "      <td>17</td>\n",
       "      <td>29.0</td>\n",
       "      <td>0.0</td>\n",
       "    </tr>\n",
       "    <tr>\n",
       "      <th>108</th>\n",
       "      <td>SPR</td>\n",
       "      <td>USLD BIZET</td>\n",
       "      <td>30</td>\n",
       "      <td>3</td>\n",
       "      <td>33.0</td>\n",
       "      <td>0.0</td>\n",
       "    </tr>\n",
       "    <tr>\n",
       "      <th>109</th>\n",
       "      <td>SPR</td>\n",
       "      <td>USLD VERDI</td>\n",
       "      <td>27</td>\n",
       "      <td>13</td>\n",
       "      <td>33.0</td>\n",
       "      <td>0.0</td>\n",
       "    </tr>\n",
       "    <tr>\n",
       "      <th>110</th>\n",
       "      <td>SPR</td>\n",
       "      <td>USP GATINEAU</td>\n",
       "      <td>9</td>\n",
       "      <td>0</td>\n",
       "      <td>10.0</td>\n",
       "      <td>0.0</td>\n",
       "    </tr>\n",
       "    <tr>\n",
       "      <th>111</th>\n",
       "      <td>SPR</td>\n",
       "      <td>USPC</td>\n",
       "      <td>18</td>\n",
       "      <td>0</td>\n",
       "      <td>18.0</td>\n",
       "      <td>0.0</td>\n",
       "    </tr>\n",
       "  </tbody>\n",
       "</table>\n",
       "<p>112 rows × 6 columns</p>\n",
       "</div>"
      ],
      "text/plain": [
       "    hospital_name                    covid_service  ipp  is_covid  \\\n",
       "0             ABC  CHIR DIG/GYNECO/ORTHO MUTUALISE    5         0   \n",
       "1             ABC                COVID 12 (REA/SC)    9         6   \n",
       "2             ABC                         COVID 14   11         7   \n",
       "3             ABC                         COVID 30   27        19   \n",
       "4             ABC                              HGE   24         0   \n",
       "..            ...                              ...  ...       ...   \n",
       "107           SPR            UGA DEBUSSY - COVID +   21        17   \n",
       "108           SPR                       USLD BIZET   30         3   \n",
       "109           SPR                       USLD VERDI   27        13   \n",
       "110           SPR                     USP GATINEAU    9         0   \n",
       "111           SPR                            USPC    18         0   \n",
       "\n",
       "     lits_ouverts  lits_ouverts_covid  \n",
       "0             8.0                 0.0  \n",
       "1             8.0                 8.0  \n",
       "2            14.0                14.0  \n",
       "3            30.0                30.0  \n",
       "4            27.0                 0.0  \n",
       "..            ...                 ...  \n",
       "107          29.0                 0.0  \n",
       "108          33.0                 0.0  \n",
       "109          33.0                 0.0  \n",
       "110          10.0                 0.0  \n",
       "111          18.0                 0.0  \n",
       "\n",
       "[112 rows x 6 columns]"
      ]
     },
     "execution_count": 58,
     "metadata": {},
     "output_type": "execute_result"
    }
   ],
   "source": [
    "df"
   ]
  }
 ],
 "metadata": {
  "kernelspec": {
   "display_name": "Python 3",
   "language": "python",
   "name": "python3"
  },
  "language_info": {
   "codemirror_mode": {
    "name": "ipython",
    "version": 3
   },
   "file_extension": ".py",
   "mimetype": "text/x-python",
   "name": "python",
   "nbconvert_exporter": "python",
   "pygments_lexer": "ipython3",
   "version": "3.7.3"
  }
 },
 "nbformat": 4,
 "nbformat_minor": 2
}
