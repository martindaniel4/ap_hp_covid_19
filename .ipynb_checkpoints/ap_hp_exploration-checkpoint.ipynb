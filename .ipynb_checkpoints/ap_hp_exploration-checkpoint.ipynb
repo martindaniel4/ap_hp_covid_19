{
 "cells": [
  {
   "cell_type": "markdown",
   "metadata": {},
   "source": [
    "### AP-HP Data exploration"
   ]
  },
  {
   "cell_type": "markdown",
   "metadata": {},
   "source": [
    "Dans ce notebook, nous analysons les données issues du GH Paris Saclay pour remonter de possibles erreurs ou incohérences dans les données."
   ]
  },
  {
   "cell_type": "code",
   "execution_count": 25,
   "metadata": {},
   "outputs": [],
   "source": [
    "import pandas as pd\n",
    "\n",
    "# deactivate warnings for chaining \n",
    "pd.options.mode.chained_assignment = None"
   ]
  },
  {
   "cell_type": "code",
   "execution_count": 53,
   "metadata": {},
   "outputs": [],
   "source": [
    "# Constants \n",
    "\n",
    "code_hospital = {\n",
    "  9: 'BCK',\n",
    "  10: 'BCT',\n",
    "  14: 'APR',\n",
    "  28: 'ABC',\n",
    "  68: 'RPC',\n",
    "  79: 'SPR',\n",
    "  96: 'PBR',\n",
    "}\n"
   ]
  },
  {
   "cell_type": "code",
   "execution_count": 49,
   "metadata": {},
   "outputs": [],
   "source": [
    "# import excel files \n",
    "\n",
    "orbis = pd.read_excel('csv/excel/orbis.xlsx')\n",
    "pacs = pd.read_excel('csv/excel/pacs.xlsx')\n",
    "glims = pd.read_excel('csv/excel/glims.xlsx')\n",
    "capacitaire = pd.read_csv('csv/capacitaire.csv', sep=';')\n",
    "sirius = pd.read_csv('csv/sirius.csv', sep=\";\")"
   ]
  },
  {
   "cell_type": "markdown",
   "metadata": {},
   "source": [
    "## Data Cleaning"
   ]
  },
  {
   "cell_type": "code",
   "execution_count": 15,
   "metadata": {},
   "outputs": [],
   "source": [
    "# Orbis - take only relevant columns \n",
    "\n",
    "orbis = orbis[['IPP', 'Chambre']]\n",
    "orbis.rename(columns={'IPP':'ipp', 'Chambre':'chambre'}, \n",
    "             inplace=True)"
   ]
  },
  {
   "cell_type": "code",
   "execution_count": 36,
   "metadata": {},
   "outputs": [],
   "source": [
    "# Glims - rename columns, drop_duplicates, map is_pcr value to 1\n",
    "\n",
    "glims = glims[['ipp', 'is_pcr']]\n",
    "glims.drop_duplicates('ipp', inplace=True) #note: drop_duplicate only returns first value for each IPP\n",
    "glims['is_pcr'] = glims['is_pcr'].map({'Positif':1})"
   ]
  },
  {
   "cell_type": "code",
   "execution_count": 44,
   "metadata": {},
   "outputs": [],
   "source": [
    "# Capacitaire, rename is_covid column\n",
    "capacitaire.rename(columns={'Full COVID 1/0':'is_covid'}, inplace=True)"
   ]
  },
  {
   "cell_type": "code",
   "execution_count": 50,
   "metadata": {},
   "outputs": [],
   "source": [
    "# Sirius, select columns, rename and filter \n",
    "sirius = sirius[['Hopital', \n",
    "                 'Intitulé Site Crise COVID', \n",
    "                 'Retenir ligne O/N']]\n",
    "\n",
    "sirius.rename(columns={'Hopital':'code_hospital',\n",
    "                       'Intitulé Site Crise COVID': 'covid_service',\n",
    "                       'Retenir ligne O/N':'filter_row'},\n",
    "             inplace=True)\n",
    "\n",
    "sirius = sirius.query(\"filter_row=='OUI'\")"
   ]
  },
  {
   "cell_type": "markdown",
   "metadata": {},
   "source": [
    "## Merge"
   ]
  },
  {
   "cell_type": "code",
   "execution_count": null,
   "metadata": {},
   "outputs": [],
   "source": []
  }
 ],
 "metadata": {
  "kernelspec": {
   "display_name": "Python 3",
   "language": "python",
   "name": "python3"
  },
  "language_info": {
   "codemirror_mode": {
    "name": "ipython",
    "version": 3
   },
   "file_extension": ".py",
   "mimetype": "text/x-python",
   "name": "python",
   "nbconvert_exporter": "python",
   "pygments_lexer": "ipython3",
   "version": "3.7.3"
  }
 },
 "nbformat": 4,
 "nbformat_minor": 2
}
