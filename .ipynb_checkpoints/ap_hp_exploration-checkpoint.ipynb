{
 "cells": [
  {
   "cell_type": "markdown",
   "metadata": {},
   "source": [
    "### AP-HP Data exploration"
   ]
  },
  {
   "cell_type": "markdown",
   "metadata": {},
   "source": [
    "Dans ce notebook, nous analysons les données issues du GH Paris Saclay pour remonter de possibles erreurs ou incohérences dans les données."
   ]
  },
  {
   "cell_type": "code",
   "execution_count": 233,
   "metadata": {},
   "outputs": [],
   "source": [
    "import pandas as pd\n",
    "\n",
    "# deactivate warnings for chaining \n",
    "pd.options.mode.chained_assignment = None"
   ]
  },
  {
   "cell_type": "code",
   "execution_count": 234,
   "metadata": {},
   "outputs": [],
   "source": [
    "# Constants \n",
    "\n",
    "code_hospital = {\n",
    "  9: 'BRK',\n",
    "  10: 'BCT',\n",
    "  14: 'APR',\n",
    "  28: 'ABC',\n",
    "  68: 'RPC',\n",
    "  79: 'SPR',\n",
    "  96: 'PBR',\n",
    "}\n",
    "\n",
    "hospital_name = {\n",
    "  'BRK': 'BERCK',\n",
    "  'BCT': 'BICETRE',\n",
    "  'PBR': 'PAUL-BROUSSE',\n",
    "  'ABC': 'ANTOINE BECLERE',\n",
    "  'SPR': 'SAINTE PERINE',\n",
    "  'APR': 'AMBROISE PARE',\n",
    "  'RPC': 'RAYMOND POINCARE',\n",
    "}\n"
   ]
  },
  {
   "cell_type": "code",
   "execution_count": 235,
   "metadata": {},
   "outputs": [],
   "source": [
    "# import excel files \n",
    "\n",
    "orbis = pd.read_excel('csv/excel/orbis.xlsx')\n",
    "pacs = pd.read_excel('csv/excel/pacs.xlsx')\n",
    "glims = pd.read_excel('csv/excel/glims.xlsx')\n",
    "capacitaire = pd.read_csv('csv/capacitaire.csv', sep=';')\n",
    "sirius = pd.read_csv('csv/sirius.csv', sep=\";\")"
   ]
  },
  {
   "cell_type": "markdown",
   "metadata": {},
   "source": [
    "## Data Cleaning"
   ]
  },
  {
   "cell_type": "code",
   "execution_count": 236,
   "metadata": {},
   "outputs": [],
   "source": [
    "# Orbis - take only relevant columns, rename and extract chambre code\n",
    "\n",
    "orbis = orbis[['IPP', 'Chambre', 'U.Responsabilité']]\n",
    "orbis.rename(columns={'IPP':'ipp', 'Chambre':'chambre'}, \n",
    "             inplace=True)\n",
    "\n",
    "# Extract code chambre from chambre (e.g: C134 from C134 - CHAMBRE SEULE C134)\n",
    "orbis['code_chambre'] = orbis['chambre'].str.split(r\"\\ - \", expand=True)[0]\n",
    "\n",
    "# Extract hospital name from U.Responsabilité (e.g: ABC from 028081 - ABC OBSTETRIQUE (UF))\n",
    "orbis['hospital_name'] = orbis['U.Responsabilité'].str.split(r\"\\ - \", expand=True)[1].str[0:3]\n",
    "\n",
    "orbis = orbis[['ipp', 'code_chambre', 'hospital_name']]"
   ]
  },
  {
   "cell_type": "code",
   "execution_count": 237,
   "metadata": {},
   "outputs": [],
   "source": [
    "# Glims - rename columns, drop_duplicates, map is_pcr value to 1\n",
    "\n",
    "glims = glims[['ipp', 'is_pcr']]\n",
    "glims.drop_duplicates('ipp', inplace=True) #note: drop_duplicate only returns first value for each IPP\n",
    "glims['is_pcr'] = glims['is_pcr'].map({'Positif':1})"
   ]
  },
  {
   "cell_type": "code",
   "execution_count": 238,
   "metadata": {},
   "outputs": [],
   "source": [
    "# Pacs - select columns, drop_duplicates\n",
    "pacs = pacs[['ipp', 'radio']]\n",
    "pacs.drop_duplicates('ipp', inplace=True)"
   ]
  },
  {
   "cell_type": "code",
   "execution_count": 239,
   "metadata": {},
   "outputs": [],
   "source": [
    "# Capacitaire, rename is_covid column\n",
    "capacitaire.rename(columns={'Full COVID 1/0':'is_covid_dedicated',\n",
    "                            'hopital':'hospital_name',\n",
    "                            'service_covid':'covid_service'}, inplace=True)"
   ]
  },
  {
   "cell_type": "code",
   "execution_count": 240,
   "metadata": {},
   "outputs": [],
   "source": [
    "# Sirius, select columns, rename and filter \n",
    "sirius = sirius[['Hopital', \n",
    "                 'Intitulé Site Crise COVID', \n",
    "                 'Retenir ligne O/N',\n",
    "                 'Code Chambre']]\n",
    "\n",
    "sirius.rename(columns={'Hopital':'code_hospital',\n",
    "                       'Intitulé Site Crise COVID': 'covid_service',\n",
    "                       'Retenir ligne O/N':'filter_row',\n",
    "                       'Code Chambre':'code_chambre'},\n",
    "             inplace=True)\n",
    "\n",
    "sirius = sirius.query(\"filter_row=='OUI'\")\n",
    "\n",
    "sirius.drop('filter_row', axis=1, inplace=True)"
   ]
  },
  {
   "cell_type": "markdown",
   "metadata": {},
   "source": [
    "## Merge"
   ]
  },
  {
   "cell_type": "code",
   "execution_count": 241,
   "metadata": {},
   "outputs": [],
   "source": [
    "# merge Orbis with Glims\n",
    "\n",
    "orbis =\\\n",
    "    pd.merge(orbis,\n",
    "             glims,\n",
    "             on='ipp',\n",
    "             how='left')\n",
    "\n",
    "# merge with Pacs\n",
    "\n",
    "orbis =\\\n",
    "    pd.merge(orbis,\n",
    "             pacs,\n",
    "             on='ipp',\n",
    "             how='left')\n",
    "\n",
    "orbis.fillna(0, inplace=True)"
   ]
  },
  {
   "cell_type": "code",
   "execution_count": 242,
   "metadata": {},
   "outputs": [],
   "source": [
    "# Compute is_covid patient\n",
    "\n",
    "def is_covid(x):\n",
    "    if (x['is_pcr'] + x['radio']) > 0:\n",
    "        return 1\n",
    "    else:\n",
    "        return 0\n",
    "\n",
    "orbis['is_covid'] = orbis.apply(is_covid, axis=1)"
   ]
  },
  {
   "cell_type": "code",
   "execution_count": 243,
   "metadata": {},
   "outputs": [
    {
     "name": "stdout",
     "output_type": "stream",
     "text": [
      "il y a 100 patients sans Chambre dans Orbis dont 9 Covid positif:\n"
     ]
    },
    {
     "data": {
      "text/html": [
       "<div>\n",
       "<style scoped>\n",
       "    .dataframe tbody tr th:only-of-type {\n",
       "        vertical-align: middle;\n",
       "    }\n",
       "\n",
       "    .dataframe tbody tr th {\n",
       "        vertical-align: top;\n",
       "    }\n",
       "\n",
       "    .dataframe thead th {\n",
       "        text-align: right;\n",
       "    }\n",
       "</style>\n",
       "<table border=\"1\" class=\"dataframe\">\n",
       "  <thead>\n",
       "    <tr style=\"text-align: right;\">\n",
       "      <th></th>\n",
       "      <th>ipp</th>\n",
       "      <th>code_chambre</th>\n",
       "      <th>hospital_name</th>\n",
       "      <th>is_pcr</th>\n",
       "      <th>radio</th>\n",
       "      <th>is_covid</th>\n",
       "    </tr>\n",
       "  </thead>\n",
       "  <tbody>\n",
       "    <tr>\n",
       "      <th>124</th>\n",
       "      <td>8003232267</td>\n",
       "      <td></td>\n",
       "      <td>ABC</td>\n",
       "      <td>1.0</td>\n",
       "      <td>0.0</td>\n",
       "      <td>1</td>\n",
       "    </tr>\n",
       "    <tr>\n",
       "      <th>389</th>\n",
       "      <td>8014201282</td>\n",
       "      <td></td>\n",
       "      <td>APR</td>\n",
       "      <td>1.0</td>\n",
       "      <td>0.0</td>\n",
       "      <td>1</td>\n",
       "    </tr>\n",
       "    <tr>\n",
       "      <th>413</th>\n",
       "      <td>8001043127</td>\n",
       "      <td></td>\n",
       "      <td>APR</td>\n",
       "      <td>1.0</td>\n",
       "      <td>0.0</td>\n",
       "      <td>1</td>\n",
       "    </tr>\n",
       "    <tr>\n",
       "      <th>898</th>\n",
       "      <td>8014207211</td>\n",
       "      <td></td>\n",
       "      <td>BCT</td>\n",
       "      <td>1.0</td>\n",
       "      <td>0.0</td>\n",
       "      <td>1</td>\n",
       "    </tr>\n",
       "    <tr>\n",
       "      <th>923</th>\n",
       "      <td>8014213145</td>\n",
       "      <td></td>\n",
       "      <td>BCT</td>\n",
       "      <td>1.0</td>\n",
       "      <td>0.0</td>\n",
       "      <td>1</td>\n",
       "    </tr>\n",
       "    <tr>\n",
       "      <th>1098</th>\n",
       "      <td>8001598842</td>\n",
       "      <td></td>\n",
       "      <td>BCT</td>\n",
       "      <td>1.0</td>\n",
       "      <td>0.0</td>\n",
       "      <td>1</td>\n",
       "    </tr>\n",
       "    <tr>\n",
       "      <th>1213</th>\n",
       "      <td>8014228263</td>\n",
       "      <td></td>\n",
       "      <td>BCT</td>\n",
       "      <td>0.0</td>\n",
       "      <td>1.0</td>\n",
       "      <td>1</td>\n",
       "    </tr>\n",
       "    <tr>\n",
       "      <th>1281</th>\n",
       "      <td>8003471485</td>\n",
       "      <td></td>\n",
       "      <td>BCT</td>\n",
       "      <td>1.0</td>\n",
       "      <td>1.0</td>\n",
       "      <td>1</td>\n",
       "    </tr>\n",
       "    <tr>\n",
       "      <th>1347</th>\n",
       "      <td>8008818941</td>\n",
       "      <td></td>\n",
       "      <td>BCT</td>\n",
       "      <td>1.0</td>\n",
       "      <td>1.0</td>\n",
       "      <td>1</td>\n",
       "    </tr>\n",
       "  </tbody>\n",
       "</table>\n",
       "</div>"
      ],
      "text/plain": [
       "             ipp code_chambre hospital_name  is_pcr  radio  is_covid\n",
       "124   8003232267                        ABC     1.0    0.0         1\n",
       "389   8014201282                        APR     1.0    0.0         1\n",
       "413   8001043127                        APR     1.0    0.0         1\n",
       "898   8014207211                        BCT     1.0    0.0         1\n",
       "923   8014213145                        BCT     1.0    0.0         1\n",
       "1098  8001598842                        BCT     1.0    0.0         1\n",
       "1213  8014228263                        BCT     0.0    1.0         1\n",
       "1281  8003471485                        BCT     1.0    1.0         1\n",
       "1347  8008818941                        BCT     1.0    1.0         1"
      ]
     },
     "execution_count": 243,
     "metadata": {},
     "output_type": "execute_result"
    }
   ],
   "source": [
    "# How many Covid patients do not have a room associated with ? \n",
    "print('il y a {n_patients_no_room} patients sans'\n",
    "       ' Chambre dans Orbis dont {n_patients_no_room_covid} Covid positif:'\\\n",
    "      .format(n_patients_no_room = len(orbis.query(\"code_chambre == ''\")),\n",
    "              n_patients_no_room_covid = len(orbis.query(\"code_chambre == ''\").query(\"is_covid==1\")),\n",
    "             ))\n",
    "\n",
    "orbis.query(\"code_chambre == ''\").query(\"is_covid==1\")"
   ]
  },
  {
   "cell_type": "code",
   "execution_count": 244,
   "metadata": {},
   "outputs": [],
   "source": [
    "# add hospital_name to sirius \n",
    "\n",
    "sirius['hospital_name'] = sirius['code_hospital'].map(code_hospital)"
   ]
  },
  {
   "cell_type": "code",
   "execution_count": 245,
   "metadata": {},
   "outputs": [],
   "source": [
    "# merge Sirius and Orbis\n",
    "\n",
    "orbis =\\\n",
    "    pd.merge(orbis,\n",
    "             sirius,\n",
    "             how='left',\n",
    "             on=['hospital_name', \n",
    "                 'code_chambre'])"
   ]
  },
  {
   "cell_type": "code",
   "execution_count": 246,
   "metadata": {},
   "outputs": [],
   "source": [
    "# merge capacitaire \n",
    "\n",
    "orbis =\\\n",
    "    pd.merge(orbis,\n",
    "             capacitaire,\n",
    "             how='left',\n",
    "             on=['hospital_name', \n",
    "                 'covid_service'])"
   ]
  },
  {
   "cell_type": "code",
   "execution_count": 247,
   "metadata": {},
   "outputs": [],
   "source": [
    "df = orbis.groupby(['hospital_name', \n",
    "               'covid_service'])\\\n",
    "     .agg({'ipp': 'count',\n",
    "           'is_covid': 'sum',\n",
    "           'lits_ouverts': 'max',\n",
    "           'lits_ouverts_covid': 'max'}).reset_index()"
   ]
  },
  {
   "cell_type": "code",
   "execution_count": 252,
   "metadata": {},
   "outputs": [
    {
     "data": {
      "text/html": [
       "<div>\n",
       "<style scoped>\n",
       "    .dataframe tbody tr th:only-of-type {\n",
       "        vertical-align: middle;\n",
       "    }\n",
       "\n",
       "    .dataframe tbody tr th {\n",
       "        vertical-align: top;\n",
       "    }\n",
       "\n",
       "    .dataframe thead th {\n",
       "        text-align: right;\n",
       "    }\n",
       "</style>\n",
       "<table border=\"1\" class=\"dataframe\">\n",
       "  <thead>\n",
       "    <tr style=\"text-align: right;\">\n",
       "      <th></th>\n",
       "      <th>ipp</th>\n",
       "      <th>code_chambre</th>\n",
       "      <th>hospital_name</th>\n",
       "      <th>is_pcr</th>\n",
       "      <th>radio</th>\n",
       "      <th>is_covid</th>\n",
       "      <th>code_hospital</th>\n",
       "      <th>covid_service</th>\n",
       "      <th>lits_ouverts</th>\n",
       "      <th>lits_ouverts_covid</th>\n",
       "      <th>is_covid_dedicated</th>\n",
       "    </tr>\n",
       "  </thead>\n",
       "  <tbody>\n",
       "    <tr>\n",
       "      <th>847</th>\n",
       "      <td>8013904331</td>\n",
       "      <td>M212</td>\n",
       "      <td>BRK</td>\n",
       "      <td>1.0</td>\n",
       "      <td>0.0</td>\n",
       "      <td>1</td>\n",
       "      <td>9.0</td>\n",
       "      <td>SSR MENARD 2 - COVID +</td>\n",
       "      <td>NaN</td>\n",
       "      <td>NaN</td>\n",
       "      <td>NaN</td>\n",
       "    </tr>\n",
       "  </tbody>\n",
       "</table>\n",
       "</div>"
      ],
      "text/plain": [
       "            ipp code_chambre hospital_name  is_pcr  radio  is_covid  \\\n",
       "847  8013904331         M212           BRK     1.0    0.0         1   \n",
       "\n",
       "     code_hospital           covid_service lits_ouverts  lits_ouverts_covid  \\\n",
       "847            9.0  SSR MENARD 2 - COVID +          NaN                 NaN   \n",
       "\n",
       "     is_covid_dedicated  \n",
       "847                 NaN  "
      ]
     },
     "execution_count": 252,
     "metadata": {},
     "output_type": "execute_result"
    }
   ],
   "source": [
    "# What's up in Berck? \n",
    "orbis.query(\"hospital_name == 'BRK'\").query(\"is_covid==1\")"
   ]
  },
  {
   "cell_type": "code",
   "execution_count": null,
   "metadata": {},
   "outputs": [],
   "source": []
  }
 ],
 "metadata": {
  "kernelspec": {
   "display_name": "Python 3",
   "language": "python",
   "name": "python3"
  },
  "language_info": {
   "codemirror_mode": {
    "name": "ipython",
    "version": 3
   },
   "file_extension": ".py",
   "mimetype": "text/x-python",
   "name": "python",
   "nbconvert_exporter": "python",
   "pygments_lexer": "ipython3",
   "version": "3.7.3"
  }
 },
 "nbformat": 4,
 "nbformat_minor": 2
}
